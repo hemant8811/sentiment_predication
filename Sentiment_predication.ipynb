{
  "nbformat": 4,
  "nbformat_minor": 0,
  "metadata": {
    "colab": {
      "provenance": []
    },
    "kernelspec": {
      "name": "python3",
      "display_name": "Python 3"
    },
    "language_info": {
      "name": "python"
    }
  },
  "cells": [
    {
      "cell_type": "code",
      "execution_count": 1,
      "metadata": {
        "id": "zsutq2iUF9Xk"
      },
      "outputs": [],
      "source": [
        "import pandas as pd\n",
        "import numpy as np\n",
        "import matplotlib.pyplot as plt\n",
        "%matplotlib inline"
      ]
    },
    {
      "cell_type": "code",
      "source": [
        "df=pd.read_csv(\"/content/drive/MyDrive/M.tech/Machine learning/Airline_review.csv\")\n"
      ],
      "metadata": {
        "id": "IZkiBwP3LDuZ"
      },
      "execution_count": 4,
      "outputs": []
    },
    {
      "cell_type": "code",
      "source": [
        "df.head()"
      ],
      "metadata": {
        "colab": {
          "base_uri": "https://localhost:8080/",
          "height": 738
        },
        "id": "4rbC4JA8MWrv",
        "outputId": "64a5684c-5cc1-4a94-d433-08fd72881202"
      },
      "execution_count": 5,
      "outputs": [
        {
          "output_type": "execute_result",
          "data": {
            "text/plain": [
              "   Unnamed: 0   Airline Name Overall_Rating  \\\n",
              "0           0    AB Aviation              9   \n",
              "1           1    AB Aviation              1   \n",
              "2           2    AB Aviation              1   \n",
              "3           3  Adria Airways              1   \n",
              "4           4  Adria Airways              1   \n",
              "\n",
              "                            Review_Title          Review Date  Verified  \\\n",
              "0                \"pretty decent airline\"   11th November 2019      True   \n",
              "1                   \"Not a good airline\"       25th June 2019      True   \n",
              "2         \"flight was fortunately short\"       25th June 2019      True   \n",
              "3    \"I will never fly again with Adria\"  28th September 2019     False   \n",
              "4  \"it ruined our last days of holidays\"  24th September 2019      True   \n",
              "\n",
              "                                              Review       Aircraft  \\\n",
              "0    Moroni to Moheli. Turned out to be a pretty ...            NaN   \n",
              "1   Moroni to Anjouan. It is a very small airline...           E120   \n",
              "2    Anjouan to Dzaoudzi. A very small airline an...  Embraer E120    \n",
              "3    Please do a favor yourself and do not fly wi...            NaN   \n",
              "4   Do not book a flight with this airline! My fr...            NaN   \n",
              "\n",
              "  Type Of Traveller      Seat Type                             Route  \\\n",
              "0      Solo Leisure  Economy Class                  Moroni to Moheli   \n",
              "1      Solo Leisure  Economy Class                 Moroni to Anjouan   \n",
              "2      Solo Leisure  Economy Class               Anjouan to Dzaoudzi   \n",
              "3      Solo Leisure  Economy Class             Frankfurt to Pristina   \n",
              "4    Couple Leisure  Economy Class  Sofia to Amsterdam via Ljubljana   \n",
              "\n",
              "       Date Flown  Seat Comfort  Cabin Staff Service  Food & Beverages  \\\n",
              "0   November 2019           4.0                  5.0               4.0   \n",
              "1       June 2019           2.0                  2.0               1.0   \n",
              "2       June 2019           2.0                  1.0               1.0   \n",
              "3  September 2019           1.0                  1.0               NaN   \n",
              "4  September 2019           1.0                  1.0               1.0   \n",
              "\n",
              "   Ground Service  Inflight Entertainment  Wifi & Connectivity  \\\n",
              "0             4.0                     NaN                  NaN   \n",
              "1             1.0                     NaN                  NaN   \n",
              "2             1.0                     NaN                  NaN   \n",
              "3             1.0                     NaN                  NaN   \n",
              "4             1.0                     1.0                  1.0   \n",
              "\n",
              "   Value For Money Recommended  \n",
              "0              3.0         yes  \n",
              "1              2.0          no  \n",
              "2              2.0          no  \n",
              "3              1.0          no  \n",
              "4              1.0          no  "
            ],
            "text/html": [
              "\n",
              "\n",
              "  <div id=\"df-630d5b41-a4fc-43cd-b021-8bd211b11d3c\">\n",
              "    <div class=\"colab-df-container\">\n",
              "      <div>\n",
              "<style scoped>\n",
              "    .dataframe tbody tr th:only-of-type {\n",
              "        vertical-align: middle;\n",
              "    }\n",
              "\n",
              "    .dataframe tbody tr th {\n",
              "        vertical-align: top;\n",
              "    }\n",
              "\n",
              "    .dataframe thead th {\n",
              "        text-align: right;\n",
              "    }\n",
              "</style>\n",
              "<table border=\"1\" class=\"dataframe\">\n",
              "  <thead>\n",
              "    <tr style=\"text-align: right;\">\n",
              "      <th></th>\n",
              "      <th>Unnamed: 0</th>\n",
              "      <th>Airline Name</th>\n",
              "      <th>Overall_Rating</th>\n",
              "      <th>Review_Title</th>\n",
              "      <th>Review Date</th>\n",
              "      <th>Verified</th>\n",
              "      <th>Review</th>\n",
              "      <th>Aircraft</th>\n",
              "      <th>Type Of Traveller</th>\n",
              "      <th>Seat Type</th>\n",
              "      <th>Route</th>\n",
              "      <th>Date Flown</th>\n",
              "      <th>Seat Comfort</th>\n",
              "      <th>Cabin Staff Service</th>\n",
              "      <th>Food &amp; Beverages</th>\n",
              "      <th>Ground Service</th>\n",
              "      <th>Inflight Entertainment</th>\n",
              "      <th>Wifi &amp; Connectivity</th>\n",
              "      <th>Value For Money</th>\n",
              "      <th>Recommended</th>\n",
              "    </tr>\n",
              "  </thead>\n",
              "  <tbody>\n",
              "    <tr>\n",
              "      <th>0</th>\n",
              "      <td>0</td>\n",
              "      <td>AB Aviation</td>\n",
              "      <td>9</td>\n",
              "      <td>\"pretty decent airline\"</td>\n",
              "      <td>11th November 2019</td>\n",
              "      <td>True</td>\n",
              "      <td>Moroni to Moheli. Turned out to be a pretty ...</td>\n",
              "      <td>NaN</td>\n",
              "      <td>Solo Leisure</td>\n",
              "      <td>Economy Class</td>\n",
              "      <td>Moroni to Moheli</td>\n",
              "      <td>November 2019</td>\n",
              "      <td>4.0</td>\n",
              "      <td>5.0</td>\n",
              "      <td>4.0</td>\n",
              "      <td>4.0</td>\n",
              "      <td>NaN</td>\n",
              "      <td>NaN</td>\n",
              "      <td>3.0</td>\n",
              "      <td>yes</td>\n",
              "    </tr>\n",
              "    <tr>\n",
              "      <th>1</th>\n",
              "      <td>1</td>\n",
              "      <td>AB Aviation</td>\n",
              "      <td>1</td>\n",
              "      <td>\"Not a good airline\"</td>\n",
              "      <td>25th June 2019</td>\n",
              "      <td>True</td>\n",
              "      <td>Moroni to Anjouan. It is a very small airline...</td>\n",
              "      <td>E120</td>\n",
              "      <td>Solo Leisure</td>\n",
              "      <td>Economy Class</td>\n",
              "      <td>Moroni to Anjouan</td>\n",
              "      <td>June 2019</td>\n",
              "      <td>2.0</td>\n",
              "      <td>2.0</td>\n",
              "      <td>1.0</td>\n",
              "      <td>1.0</td>\n",
              "      <td>NaN</td>\n",
              "      <td>NaN</td>\n",
              "      <td>2.0</td>\n",
              "      <td>no</td>\n",
              "    </tr>\n",
              "    <tr>\n",
              "      <th>2</th>\n",
              "      <td>2</td>\n",
              "      <td>AB Aviation</td>\n",
              "      <td>1</td>\n",
              "      <td>\"flight was fortunately short\"</td>\n",
              "      <td>25th June 2019</td>\n",
              "      <td>True</td>\n",
              "      <td>Anjouan to Dzaoudzi. A very small airline an...</td>\n",
              "      <td>Embraer E120</td>\n",
              "      <td>Solo Leisure</td>\n",
              "      <td>Economy Class</td>\n",
              "      <td>Anjouan to Dzaoudzi</td>\n",
              "      <td>June 2019</td>\n",
              "      <td>2.0</td>\n",
              "      <td>1.0</td>\n",
              "      <td>1.0</td>\n",
              "      <td>1.0</td>\n",
              "      <td>NaN</td>\n",
              "      <td>NaN</td>\n",
              "      <td>2.0</td>\n",
              "      <td>no</td>\n",
              "    </tr>\n",
              "    <tr>\n",
              "      <th>3</th>\n",
              "      <td>3</td>\n",
              "      <td>Adria Airways</td>\n",
              "      <td>1</td>\n",
              "      <td>\"I will never fly again with Adria\"</td>\n",
              "      <td>28th September 2019</td>\n",
              "      <td>False</td>\n",
              "      <td>Please do a favor yourself and do not fly wi...</td>\n",
              "      <td>NaN</td>\n",
              "      <td>Solo Leisure</td>\n",
              "      <td>Economy Class</td>\n",
              "      <td>Frankfurt to Pristina</td>\n",
              "      <td>September 2019</td>\n",
              "      <td>1.0</td>\n",
              "      <td>1.0</td>\n",
              "      <td>NaN</td>\n",
              "      <td>1.0</td>\n",
              "      <td>NaN</td>\n",
              "      <td>NaN</td>\n",
              "      <td>1.0</td>\n",
              "      <td>no</td>\n",
              "    </tr>\n",
              "    <tr>\n",
              "      <th>4</th>\n",
              "      <td>4</td>\n",
              "      <td>Adria Airways</td>\n",
              "      <td>1</td>\n",
              "      <td>\"it ruined our last days of holidays\"</td>\n",
              "      <td>24th September 2019</td>\n",
              "      <td>True</td>\n",
              "      <td>Do not book a flight with this airline! My fr...</td>\n",
              "      <td>NaN</td>\n",
              "      <td>Couple Leisure</td>\n",
              "      <td>Economy Class</td>\n",
              "      <td>Sofia to Amsterdam via Ljubljana</td>\n",
              "      <td>September 2019</td>\n",
              "      <td>1.0</td>\n",
              "      <td>1.0</td>\n",
              "      <td>1.0</td>\n",
              "      <td>1.0</td>\n",
              "      <td>1.0</td>\n",
              "      <td>1.0</td>\n",
              "      <td>1.0</td>\n",
              "      <td>no</td>\n",
              "    </tr>\n",
              "  </tbody>\n",
              "</table>\n",
              "</div>\n",
              "      <button class=\"colab-df-convert\" onclick=\"convertToInteractive('df-630d5b41-a4fc-43cd-b021-8bd211b11d3c')\"\n",
              "              title=\"Convert this dataframe to an interactive table.\"\n",
              "              style=\"display:none;\">\n",
              "\n",
              "  <svg xmlns=\"http://www.w3.org/2000/svg\" height=\"24px\"viewBox=\"0 0 24 24\"\n",
              "       width=\"24px\">\n",
              "    <path d=\"M0 0h24v24H0V0z\" fill=\"none\"/>\n",
              "    <path d=\"M18.56 5.44l.94 2.06.94-2.06 2.06-.94-2.06-.94-.94-2.06-.94 2.06-2.06.94zm-11 1L8.5 8.5l.94-2.06 2.06-.94-2.06-.94L8.5 2.5l-.94 2.06-2.06.94zm10 10l.94 2.06.94-2.06 2.06-.94-2.06-.94-.94-2.06-.94 2.06-2.06.94z\"/><path d=\"M17.41 7.96l-1.37-1.37c-.4-.4-.92-.59-1.43-.59-.52 0-1.04.2-1.43.59L10.3 9.45l-7.72 7.72c-.78.78-.78 2.05 0 2.83L4 21.41c.39.39.9.59 1.41.59.51 0 1.02-.2 1.41-.59l7.78-7.78 2.81-2.81c.8-.78.8-2.07 0-2.86zM5.41 20L4 18.59l7.72-7.72 1.47 1.35L5.41 20z\"/>\n",
              "  </svg>\n",
              "      </button>\n",
              "\n",
              "\n",
              "\n",
              "    <div id=\"df-f3bbe92d-bc25-4745-b277-f4fa6a1b6e07\">\n",
              "      <button class=\"colab-df-quickchart\" onclick=\"quickchart('df-f3bbe92d-bc25-4745-b277-f4fa6a1b6e07')\"\n",
              "              title=\"Suggest charts.\"\n",
              "              style=\"display:none;\">\n",
              "\n",
              "<svg xmlns=\"http://www.w3.org/2000/svg\" height=\"24px\"viewBox=\"0 0 24 24\"\n",
              "     width=\"24px\">\n",
              "    <g>\n",
              "        <path d=\"M19 3H5c-1.1 0-2 .9-2 2v14c0 1.1.9 2 2 2h14c1.1 0 2-.9 2-2V5c0-1.1-.9-2-2-2zM9 17H7v-7h2v7zm4 0h-2V7h2v10zm4 0h-2v-4h2v4z\"/>\n",
              "    </g>\n",
              "</svg>\n",
              "      </button>\n",
              "    </div>\n",
              "\n",
              "<style>\n",
              "  .colab-df-quickchart {\n",
              "    background-color: #E8F0FE;\n",
              "    border: none;\n",
              "    border-radius: 50%;\n",
              "    cursor: pointer;\n",
              "    display: none;\n",
              "    fill: #1967D2;\n",
              "    height: 32px;\n",
              "    padding: 0 0 0 0;\n",
              "    width: 32px;\n",
              "  }\n",
              "\n",
              "  .colab-df-quickchart:hover {\n",
              "    background-color: #E2EBFA;\n",
              "    box-shadow: 0px 1px 2px rgba(60, 64, 67, 0.3), 0px 1px 3px 1px rgba(60, 64, 67, 0.15);\n",
              "    fill: #174EA6;\n",
              "  }\n",
              "\n",
              "  [theme=dark] .colab-df-quickchart {\n",
              "    background-color: #3B4455;\n",
              "    fill: #D2E3FC;\n",
              "  }\n",
              "\n",
              "  [theme=dark] .colab-df-quickchart:hover {\n",
              "    background-color: #434B5C;\n",
              "    box-shadow: 0px 1px 3px 1px rgba(0, 0, 0, 0.15);\n",
              "    filter: drop-shadow(0px 1px 2px rgba(0, 0, 0, 0.3));\n",
              "    fill: #FFFFFF;\n",
              "  }\n",
              "</style>\n",
              "\n",
              "    <script>\n",
              "      async function quickchart(key) {\n",
              "        const containerElement = document.querySelector('#' + key);\n",
              "        const charts = await google.colab.kernel.invokeFunction(\n",
              "            'suggestCharts', [key], {});\n",
              "      }\n",
              "    </script>\n",
              "\n",
              "\n",
              "      <script>\n",
              "\n",
              "function displayQuickchartButton(domScope) {\n",
              "  let quickchartButtonEl =\n",
              "    domScope.querySelector('#df-f3bbe92d-bc25-4745-b277-f4fa6a1b6e07 button.colab-df-quickchart');\n",
              "  quickchartButtonEl.style.display =\n",
              "    google.colab.kernel.accessAllowed ? 'block' : 'none';\n",
              "}\n",
              "\n",
              "        displayQuickchartButton(document);\n",
              "      </script>\n",
              "      <style>\n",
              "    .colab-df-container {\n",
              "      display:flex;\n",
              "      flex-wrap:wrap;\n",
              "      gap: 12px;\n",
              "    }\n",
              "\n",
              "    .colab-df-convert {\n",
              "      background-color: #E8F0FE;\n",
              "      border: none;\n",
              "      border-radius: 50%;\n",
              "      cursor: pointer;\n",
              "      display: none;\n",
              "      fill: #1967D2;\n",
              "      height: 32px;\n",
              "      padding: 0 0 0 0;\n",
              "      width: 32px;\n",
              "    }\n",
              "\n",
              "    .colab-df-convert:hover {\n",
              "      background-color: #E2EBFA;\n",
              "      box-shadow: 0px 1px 2px rgba(60, 64, 67, 0.3), 0px 1px 3px 1px rgba(60, 64, 67, 0.15);\n",
              "      fill: #174EA6;\n",
              "    }\n",
              "\n",
              "    [theme=dark] .colab-df-convert {\n",
              "      background-color: #3B4455;\n",
              "      fill: #D2E3FC;\n",
              "    }\n",
              "\n",
              "    [theme=dark] .colab-df-convert:hover {\n",
              "      background-color: #434B5C;\n",
              "      box-shadow: 0px 1px 3px 1px rgba(0, 0, 0, 0.15);\n",
              "      filter: drop-shadow(0px 1px 2px rgba(0, 0, 0, 0.3));\n",
              "      fill: #FFFFFF;\n",
              "    }\n",
              "  </style>\n",
              "\n",
              "      <script>\n",
              "        const buttonEl =\n",
              "          document.querySelector('#df-630d5b41-a4fc-43cd-b021-8bd211b11d3c button.colab-df-convert');\n",
              "        buttonEl.style.display =\n",
              "          google.colab.kernel.accessAllowed ? 'block' : 'none';\n",
              "\n",
              "        async function convertToInteractive(key) {\n",
              "          const element = document.querySelector('#df-630d5b41-a4fc-43cd-b021-8bd211b11d3c');\n",
              "          const dataTable =\n",
              "            await google.colab.kernel.invokeFunction('convertToInteractive',\n",
              "                                                     [key], {});\n",
              "          if (!dataTable) return;\n",
              "\n",
              "          const docLinkHtml = 'Like what you see? Visit the ' +\n",
              "            '<a target=\"_blank\" href=https://colab.research.google.com/notebooks/data_table.ipynb>data table notebook</a>'\n",
              "            + ' to learn more about interactive tables.';\n",
              "          element.innerHTML = '';\n",
              "          dataTable['output_type'] = 'display_data';\n",
              "          await google.colab.output.renderOutput(dataTable, element);\n",
              "          const docLink = document.createElement('div');\n",
              "          docLink.innerHTML = docLinkHtml;\n",
              "          element.appendChild(docLink);\n",
              "        }\n",
              "      </script>\n",
              "    </div>\n",
              "  </div>\n"
            ]
          },
          "metadata": {},
          "execution_count": 5
        }
      ]
    },
    {
      "cell_type": "code",
      "source": [
        "df.drop('Unnamed: 0',axis=1,inplace=True)"
      ],
      "metadata": {
        "id": "qEdiA8kOOrYA"
      },
      "execution_count": 6,
      "outputs": []
    },
    {
      "cell_type": "code",
      "source": [
        "df.info()"
      ],
      "metadata": {
        "colab": {
          "base_uri": "https://localhost:8080/"
        },
        "id": "j4XcsGXCOxG1",
        "outputId": "233ea7b4-5d5e-4eb3-c66b-bf8c88b1d57c"
      },
      "execution_count": 7,
      "outputs": [
        {
          "output_type": "stream",
          "name": "stdout",
          "text": [
            "<class 'pandas.core.frame.DataFrame'>\n",
            "RangeIndex: 23171 entries, 0 to 23170\n",
            "Data columns (total 19 columns):\n",
            " #   Column                  Non-Null Count  Dtype  \n",
            "---  ------                  --------------  -----  \n",
            " 0   Airline Name            23171 non-null  object \n",
            " 1   Overall_Rating          23171 non-null  object \n",
            " 2   Review_Title            23171 non-null  object \n",
            " 3   Review Date             23171 non-null  object \n",
            " 4   Verified                23171 non-null  bool   \n",
            " 5   Review                  23171 non-null  object \n",
            " 6   Aircraft                7129 non-null   object \n",
            " 7   Type Of Traveller       19433 non-null  object \n",
            " 8   Seat Type               22075 non-null  object \n",
            " 9   Route                   19343 non-null  object \n",
            " 10  Date Flown              19417 non-null  object \n",
            " 11  Seat Comfort            19016 non-null  float64\n",
            " 12  Cabin Staff Service     18911 non-null  float64\n",
            " 13  Food & Beverages        14500 non-null  float64\n",
            " 14  Ground Service          18378 non-null  float64\n",
            " 15  Inflight Entertainment  10829 non-null  float64\n",
            " 16  Wifi & Connectivity     5920 non-null   float64\n",
            " 17  Value For Money         22105 non-null  float64\n",
            " 18  Recommended             23171 non-null  object \n",
            "dtypes: bool(1), float64(7), object(11)\n",
            "memory usage: 3.2+ MB\n"
          ]
        }
      ]
    },
    {
      "cell_type": "code",
      "source": [
        "df.duplicated().value_counts()"
      ],
      "metadata": {
        "colab": {
          "base_uri": "https://localhost:8080/"
        },
        "id": "nESxiexpOyoF",
        "outputId": "d66b5ae8-e3e7-49e0-b385-be44d1ee35d8"
      },
      "execution_count": 8,
      "outputs": [
        {
          "output_type": "execute_result",
          "data": {
            "text/plain": [
              "False    23051\n",
              "True       120\n",
              "dtype: int64"
            ]
          },
          "metadata": {},
          "execution_count": 8
        }
      ]
    },
    {
      "cell_type": "code",
      "source": [
        "df.drop_duplicates()"
      ],
      "metadata": {
        "colab": {
          "base_uri": "https://localhost:8080/",
          "height": 1000
        },
        "id": "J_YaEcIzO1tE",
        "outputId": "fe06cfba-7c2e-47fa-be30-a9aaa5ec20ca"
      },
      "execution_count": 9,
      "outputs": [
        {
          "output_type": "execute_result",
          "data": {
            "text/plain": [
              "        Airline Name Overall_Rating                            Review_Title  \\\n",
              "0        AB Aviation              9                 \"pretty decent airline\"   \n",
              "1        AB Aviation              1                    \"Not a good airline\"   \n",
              "2        AB Aviation              1          \"flight was fortunately short\"   \n",
              "3      Adria Airways              1     \"I will never fly again with Adria\"   \n",
              "4      Adria Airways              1   \"it ruined our last days of holidays\"   \n",
              "...              ...            ...                                     ...   \n",
              "23166         ZIPAIR              1          \"customer service is terrible\"   \n",
              "23167         ZIPAIR              1                    \"Avoid at all costs\"   \n",
              "23168         ZIPAIR              3          \"Will not recommend to anyone\"   \n",
              "23169         ZIPAIR              6             \"It was immaculately clean\"   \n",
              "23170         ZIPAIR              1  \"lost all of our money with no refund\"   \n",
              "\n",
              "               Review Date  Verified  \\\n",
              "0       11th November 2019      True   \n",
              "1           25th June 2019      True   \n",
              "2           25th June 2019      True   \n",
              "3      28th September 2019     False   \n",
              "4      24th September 2019      True   \n",
              "...                    ...       ...   \n",
              "23166        5th July 2022     False   \n",
              "23167        1st June 2022      True   \n",
              "23168        31st May 2022      True   \n",
              "23169        23rd May 2022      True   \n",
              "23170        20th May 2022      True   \n",
              "\n",
              "                                                  Review       Aircraft  \\\n",
              "0        Moroni to Moheli. Turned out to be a pretty ...            NaN   \n",
              "1       Moroni to Anjouan. It is a very small airline...           E120   \n",
              "2        Anjouan to Dzaoudzi. A very small airline an...  Embraer E120    \n",
              "3        Please do a favor yourself and do not fly wi...            NaN   \n",
              "4       Do not book a flight with this airline! My fr...            NaN   \n",
              "...                                                  ...            ...   \n",
              "23166   Bangkok to Tokyo. I’ve flown many low cost ai...            NaN   \n",
              "23167    Avoid at all costs. I booked flights to go f...            NaN   \n",
              "23168    Flight was leaving at 23.15 and after an hou...            NaN   \n",
              "23169   Zipair is JAL’s budget airline. They don’t ha...     Dreamliner   \n",
              "23170    They lied about connection in Narita and we ...            NaN   \n",
              "\n",
              "      Type Of Traveller       Seat Type                             Route  \\\n",
              "0          Solo Leisure   Economy Class                  Moroni to Moheli   \n",
              "1          Solo Leisure   Economy Class                 Moroni to Anjouan   \n",
              "2          Solo Leisure   Economy Class               Anjouan to Dzaoudzi   \n",
              "3          Solo Leisure   Economy Class             Frankfurt to Pristina   \n",
              "4        Couple Leisure   Economy Class  Sofia to Amsterdam via Ljubljana   \n",
              "...                 ...             ...                               ...   \n",
              "23166    Couple Leisure   Economy Class                  Bangkok to Tokyo   \n",
              "23167      Solo Leisure   Economy Class                Singapore to Tokyo   \n",
              "23168          Business   Economy Class                  Bangkok to Tokyo   \n",
              "23169          Business  Business Class              Tokyo to Los Angeles   \n",
              "23170      Solo Leisure   Economy Class                Singapore to Tokyo   \n",
              "\n",
              "           Date Flown  Seat Comfort  Cabin Staff Service  Food & Beverages  \\\n",
              "0       November 2019           4.0                  5.0               4.0   \n",
              "1           June 2019           2.0                  2.0               1.0   \n",
              "2           June 2019           2.0                  1.0               1.0   \n",
              "3      September 2019           1.0                  1.0               NaN   \n",
              "4      September 2019           1.0                  1.0               1.0   \n",
              "...               ...           ...                  ...               ...   \n",
              "23166       June 2022           2.0                  1.0               NaN   \n",
              "23167       June 2022           NaN                  NaN               NaN   \n",
              "23168        May 2022           2.0                  4.0               2.0   \n",
              "23169        May 2022           3.0                  4.0               3.0   \n",
              "23170        May 2022           NaN                  NaN               NaN   \n",
              "\n",
              "       Ground Service  Inflight Entertainment  Wifi & Connectivity  \\\n",
              "0                 4.0                     NaN                  NaN   \n",
              "1                 1.0                     NaN                  NaN   \n",
              "2                 1.0                     NaN                  NaN   \n",
              "3                 1.0                     NaN                  NaN   \n",
              "4                 1.0                     1.0                  1.0   \n",
              "...               ...                     ...                  ...   \n",
              "23166             1.0                     1.0                  1.0   \n",
              "23167             NaN                     NaN                  NaN   \n",
              "23168             1.0                     NaN                  NaN   \n",
              "23169             1.0                     2.0                  5.0   \n",
              "23170             1.0                     NaN                  NaN   \n",
              "\n",
              "       Value For Money Recommended  \n",
              "0                  3.0         yes  \n",
              "1                  2.0          no  \n",
              "2                  2.0          no  \n",
              "3                  1.0          no  \n",
              "4                  1.0          no  \n",
              "...                ...         ...  \n",
              "23166              1.0          no  \n",
              "23167              1.0          no  \n",
              "23168              2.0          no  \n",
              "23169              5.0         yes  \n",
              "23170              1.0          no  \n",
              "\n",
              "[23051 rows x 19 columns]"
            ],
            "text/html": [
              "\n",
              "\n",
              "  <div id=\"df-f9319dc7-e143-473a-b5a3-495b36c9c059\">\n",
              "    <div class=\"colab-df-container\">\n",
              "      <div>\n",
              "<style scoped>\n",
              "    .dataframe tbody tr th:only-of-type {\n",
              "        vertical-align: middle;\n",
              "    }\n",
              "\n",
              "    .dataframe tbody tr th {\n",
              "        vertical-align: top;\n",
              "    }\n",
              "\n",
              "    .dataframe thead th {\n",
              "        text-align: right;\n",
              "    }\n",
              "</style>\n",
              "<table border=\"1\" class=\"dataframe\">\n",
              "  <thead>\n",
              "    <tr style=\"text-align: right;\">\n",
              "      <th></th>\n",
              "      <th>Airline Name</th>\n",
              "      <th>Overall_Rating</th>\n",
              "      <th>Review_Title</th>\n",
              "      <th>Review Date</th>\n",
              "      <th>Verified</th>\n",
              "      <th>Review</th>\n",
              "      <th>Aircraft</th>\n",
              "      <th>Type Of Traveller</th>\n",
              "      <th>Seat Type</th>\n",
              "      <th>Route</th>\n",
              "      <th>Date Flown</th>\n",
              "      <th>Seat Comfort</th>\n",
              "      <th>Cabin Staff Service</th>\n",
              "      <th>Food &amp; Beverages</th>\n",
              "      <th>Ground Service</th>\n",
              "      <th>Inflight Entertainment</th>\n",
              "      <th>Wifi &amp; Connectivity</th>\n",
              "      <th>Value For Money</th>\n",
              "      <th>Recommended</th>\n",
              "    </tr>\n",
              "  </thead>\n",
              "  <tbody>\n",
              "    <tr>\n",
              "      <th>0</th>\n",
              "      <td>AB Aviation</td>\n",
              "      <td>9</td>\n",
              "      <td>\"pretty decent airline\"</td>\n",
              "      <td>11th November 2019</td>\n",
              "      <td>True</td>\n",
              "      <td>Moroni to Moheli. Turned out to be a pretty ...</td>\n",
              "      <td>NaN</td>\n",
              "      <td>Solo Leisure</td>\n",
              "      <td>Economy Class</td>\n",
              "      <td>Moroni to Moheli</td>\n",
              "      <td>November 2019</td>\n",
              "      <td>4.0</td>\n",
              "      <td>5.0</td>\n",
              "      <td>4.0</td>\n",
              "      <td>4.0</td>\n",
              "      <td>NaN</td>\n",
              "      <td>NaN</td>\n",
              "      <td>3.0</td>\n",
              "      <td>yes</td>\n",
              "    </tr>\n",
              "    <tr>\n",
              "      <th>1</th>\n",
              "      <td>AB Aviation</td>\n",
              "      <td>1</td>\n",
              "      <td>\"Not a good airline\"</td>\n",
              "      <td>25th June 2019</td>\n",
              "      <td>True</td>\n",
              "      <td>Moroni to Anjouan. It is a very small airline...</td>\n",
              "      <td>E120</td>\n",
              "      <td>Solo Leisure</td>\n",
              "      <td>Economy Class</td>\n",
              "      <td>Moroni to Anjouan</td>\n",
              "      <td>June 2019</td>\n",
              "      <td>2.0</td>\n",
              "      <td>2.0</td>\n",
              "      <td>1.0</td>\n",
              "      <td>1.0</td>\n",
              "      <td>NaN</td>\n",
              "      <td>NaN</td>\n",
              "      <td>2.0</td>\n",
              "      <td>no</td>\n",
              "    </tr>\n",
              "    <tr>\n",
              "      <th>2</th>\n",
              "      <td>AB Aviation</td>\n",
              "      <td>1</td>\n",
              "      <td>\"flight was fortunately short\"</td>\n",
              "      <td>25th June 2019</td>\n",
              "      <td>True</td>\n",
              "      <td>Anjouan to Dzaoudzi. A very small airline an...</td>\n",
              "      <td>Embraer E120</td>\n",
              "      <td>Solo Leisure</td>\n",
              "      <td>Economy Class</td>\n",
              "      <td>Anjouan to Dzaoudzi</td>\n",
              "      <td>June 2019</td>\n",
              "      <td>2.0</td>\n",
              "      <td>1.0</td>\n",
              "      <td>1.0</td>\n",
              "      <td>1.0</td>\n",
              "      <td>NaN</td>\n",
              "      <td>NaN</td>\n",
              "      <td>2.0</td>\n",
              "      <td>no</td>\n",
              "    </tr>\n",
              "    <tr>\n",
              "      <th>3</th>\n",
              "      <td>Adria Airways</td>\n",
              "      <td>1</td>\n",
              "      <td>\"I will never fly again with Adria\"</td>\n",
              "      <td>28th September 2019</td>\n",
              "      <td>False</td>\n",
              "      <td>Please do a favor yourself and do not fly wi...</td>\n",
              "      <td>NaN</td>\n",
              "      <td>Solo Leisure</td>\n",
              "      <td>Economy Class</td>\n",
              "      <td>Frankfurt to Pristina</td>\n",
              "      <td>September 2019</td>\n",
              "      <td>1.0</td>\n",
              "      <td>1.0</td>\n",
              "      <td>NaN</td>\n",
              "      <td>1.0</td>\n",
              "      <td>NaN</td>\n",
              "      <td>NaN</td>\n",
              "      <td>1.0</td>\n",
              "      <td>no</td>\n",
              "    </tr>\n",
              "    <tr>\n",
              "      <th>4</th>\n",
              "      <td>Adria Airways</td>\n",
              "      <td>1</td>\n",
              "      <td>\"it ruined our last days of holidays\"</td>\n",
              "      <td>24th September 2019</td>\n",
              "      <td>True</td>\n",
              "      <td>Do not book a flight with this airline! My fr...</td>\n",
              "      <td>NaN</td>\n",
              "      <td>Couple Leisure</td>\n",
              "      <td>Economy Class</td>\n",
              "      <td>Sofia to Amsterdam via Ljubljana</td>\n",
              "      <td>September 2019</td>\n",
              "      <td>1.0</td>\n",
              "      <td>1.0</td>\n",
              "      <td>1.0</td>\n",
              "      <td>1.0</td>\n",
              "      <td>1.0</td>\n",
              "      <td>1.0</td>\n",
              "      <td>1.0</td>\n",
              "      <td>no</td>\n",
              "    </tr>\n",
              "    <tr>\n",
              "      <th>...</th>\n",
              "      <td>...</td>\n",
              "      <td>...</td>\n",
              "      <td>...</td>\n",
              "      <td>...</td>\n",
              "      <td>...</td>\n",
              "      <td>...</td>\n",
              "      <td>...</td>\n",
              "      <td>...</td>\n",
              "      <td>...</td>\n",
              "      <td>...</td>\n",
              "      <td>...</td>\n",
              "      <td>...</td>\n",
              "      <td>...</td>\n",
              "      <td>...</td>\n",
              "      <td>...</td>\n",
              "      <td>...</td>\n",
              "      <td>...</td>\n",
              "      <td>...</td>\n",
              "      <td>...</td>\n",
              "    </tr>\n",
              "    <tr>\n",
              "      <th>23166</th>\n",
              "      <td>ZIPAIR</td>\n",
              "      <td>1</td>\n",
              "      <td>\"customer service is terrible\"</td>\n",
              "      <td>5th July 2022</td>\n",
              "      <td>False</td>\n",
              "      <td>Bangkok to Tokyo. I’ve flown many low cost ai...</td>\n",
              "      <td>NaN</td>\n",
              "      <td>Couple Leisure</td>\n",
              "      <td>Economy Class</td>\n",
              "      <td>Bangkok to Tokyo</td>\n",
              "      <td>June 2022</td>\n",
              "      <td>2.0</td>\n",
              "      <td>1.0</td>\n",
              "      <td>NaN</td>\n",
              "      <td>1.0</td>\n",
              "      <td>1.0</td>\n",
              "      <td>1.0</td>\n",
              "      <td>1.0</td>\n",
              "      <td>no</td>\n",
              "    </tr>\n",
              "    <tr>\n",
              "      <th>23167</th>\n",
              "      <td>ZIPAIR</td>\n",
              "      <td>1</td>\n",
              "      <td>\"Avoid at all costs\"</td>\n",
              "      <td>1st June 2022</td>\n",
              "      <td>True</td>\n",
              "      <td>Avoid at all costs. I booked flights to go f...</td>\n",
              "      <td>NaN</td>\n",
              "      <td>Solo Leisure</td>\n",
              "      <td>Economy Class</td>\n",
              "      <td>Singapore to Tokyo</td>\n",
              "      <td>June 2022</td>\n",
              "      <td>NaN</td>\n",
              "      <td>NaN</td>\n",
              "      <td>NaN</td>\n",
              "      <td>NaN</td>\n",
              "      <td>NaN</td>\n",
              "      <td>NaN</td>\n",
              "      <td>1.0</td>\n",
              "      <td>no</td>\n",
              "    </tr>\n",
              "    <tr>\n",
              "      <th>23168</th>\n",
              "      <td>ZIPAIR</td>\n",
              "      <td>3</td>\n",
              "      <td>\"Will not recommend to anyone\"</td>\n",
              "      <td>31st May 2022</td>\n",
              "      <td>True</td>\n",
              "      <td>Flight was leaving at 23.15 and after an hou...</td>\n",
              "      <td>NaN</td>\n",
              "      <td>Business</td>\n",
              "      <td>Economy Class</td>\n",
              "      <td>Bangkok to Tokyo</td>\n",
              "      <td>May 2022</td>\n",
              "      <td>2.0</td>\n",
              "      <td>4.0</td>\n",
              "      <td>2.0</td>\n",
              "      <td>1.0</td>\n",
              "      <td>NaN</td>\n",
              "      <td>NaN</td>\n",
              "      <td>2.0</td>\n",
              "      <td>no</td>\n",
              "    </tr>\n",
              "    <tr>\n",
              "      <th>23169</th>\n",
              "      <td>ZIPAIR</td>\n",
              "      <td>6</td>\n",
              "      <td>\"It was immaculately clean\"</td>\n",
              "      <td>23rd May 2022</td>\n",
              "      <td>True</td>\n",
              "      <td>Zipair is JAL’s budget airline. They don’t ha...</td>\n",
              "      <td>Dreamliner</td>\n",
              "      <td>Business</td>\n",
              "      <td>Business Class</td>\n",
              "      <td>Tokyo to Los Angeles</td>\n",
              "      <td>May 2022</td>\n",
              "      <td>3.0</td>\n",
              "      <td>4.0</td>\n",
              "      <td>3.0</td>\n",
              "      <td>1.0</td>\n",
              "      <td>2.0</td>\n",
              "      <td>5.0</td>\n",
              "      <td>5.0</td>\n",
              "      <td>yes</td>\n",
              "    </tr>\n",
              "    <tr>\n",
              "      <th>23170</th>\n",
              "      <td>ZIPAIR</td>\n",
              "      <td>1</td>\n",
              "      <td>\"lost all of our money with no refund\"</td>\n",
              "      <td>20th May 2022</td>\n",
              "      <td>True</td>\n",
              "      <td>They lied about connection in Narita and we ...</td>\n",
              "      <td>NaN</td>\n",
              "      <td>Solo Leisure</td>\n",
              "      <td>Economy Class</td>\n",
              "      <td>Singapore to Tokyo</td>\n",
              "      <td>May 2022</td>\n",
              "      <td>NaN</td>\n",
              "      <td>NaN</td>\n",
              "      <td>NaN</td>\n",
              "      <td>1.0</td>\n",
              "      <td>NaN</td>\n",
              "      <td>NaN</td>\n",
              "      <td>1.0</td>\n",
              "      <td>no</td>\n",
              "    </tr>\n",
              "  </tbody>\n",
              "</table>\n",
              "<p>23051 rows × 19 columns</p>\n",
              "</div>\n",
              "      <button class=\"colab-df-convert\" onclick=\"convertToInteractive('df-f9319dc7-e143-473a-b5a3-495b36c9c059')\"\n",
              "              title=\"Convert this dataframe to an interactive table.\"\n",
              "              style=\"display:none;\">\n",
              "\n",
              "  <svg xmlns=\"http://www.w3.org/2000/svg\" height=\"24px\"viewBox=\"0 0 24 24\"\n",
              "       width=\"24px\">\n",
              "    <path d=\"M0 0h24v24H0V0z\" fill=\"none\"/>\n",
              "    <path d=\"M18.56 5.44l.94 2.06.94-2.06 2.06-.94-2.06-.94-.94-2.06-.94 2.06-2.06.94zm-11 1L8.5 8.5l.94-2.06 2.06-.94-2.06-.94L8.5 2.5l-.94 2.06-2.06.94zm10 10l.94 2.06.94-2.06 2.06-.94-2.06-.94-.94-2.06-.94 2.06-2.06.94z\"/><path d=\"M17.41 7.96l-1.37-1.37c-.4-.4-.92-.59-1.43-.59-.52 0-1.04.2-1.43.59L10.3 9.45l-7.72 7.72c-.78.78-.78 2.05 0 2.83L4 21.41c.39.39.9.59 1.41.59.51 0 1.02-.2 1.41-.59l7.78-7.78 2.81-2.81c.8-.78.8-2.07 0-2.86zM5.41 20L4 18.59l7.72-7.72 1.47 1.35L5.41 20z\"/>\n",
              "  </svg>\n",
              "      </button>\n",
              "\n",
              "\n",
              "\n",
              "    <div id=\"df-29c50232-631e-47aa-89eb-02a43e65b3e9\">\n",
              "      <button class=\"colab-df-quickchart\" onclick=\"quickchart('df-29c50232-631e-47aa-89eb-02a43e65b3e9')\"\n",
              "              title=\"Suggest charts.\"\n",
              "              style=\"display:none;\">\n",
              "\n",
              "<svg xmlns=\"http://www.w3.org/2000/svg\" height=\"24px\"viewBox=\"0 0 24 24\"\n",
              "     width=\"24px\">\n",
              "    <g>\n",
              "        <path d=\"M19 3H5c-1.1 0-2 .9-2 2v14c0 1.1.9 2 2 2h14c1.1 0 2-.9 2-2V5c0-1.1-.9-2-2-2zM9 17H7v-7h2v7zm4 0h-2V7h2v10zm4 0h-2v-4h2v4z\"/>\n",
              "    </g>\n",
              "</svg>\n",
              "      </button>\n",
              "    </div>\n",
              "\n",
              "<style>\n",
              "  .colab-df-quickchart {\n",
              "    background-color: #E8F0FE;\n",
              "    border: none;\n",
              "    border-radius: 50%;\n",
              "    cursor: pointer;\n",
              "    display: none;\n",
              "    fill: #1967D2;\n",
              "    height: 32px;\n",
              "    padding: 0 0 0 0;\n",
              "    width: 32px;\n",
              "  }\n",
              "\n",
              "  .colab-df-quickchart:hover {\n",
              "    background-color: #E2EBFA;\n",
              "    box-shadow: 0px 1px 2px rgba(60, 64, 67, 0.3), 0px 1px 3px 1px rgba(60, 64, 67, 0.15);\n",
              "    fill: #174EA6;\n",
              "  }\n",
              "\n",
              "  [theme=dark] .colab-df-quickchart {\n",
              "    background-color: #3B4455;\n",
              "    fill: #D2E3FC;\n",
              "  }\n",
              "\n",
              "  [theme=dark] .colab-df-quickchart:hover {\n",
              "    background-color: #434B5C;\n",
              "    box-shadow: 0px 1px 3px 1px rgba(0, 0, 0, 0.15);\n",
              "    filter: drop-shadow(0px 1px 2px rgba(0, 0, 0, 0.3));\n",
              "    fill: #FFFFFF;\n",
              "  }\n",
              "</style>\n",
              "\n",
              "    <script>\n",
              "      async function quickchart(key) {\n",
              "        const containerElement = document.querySelector('#' + key);\n",
              "        const charts = await google.colab.kernel.invokeFunction(\n",
              "            'suggestCharts', [key], {});\n",
              "      }\n",
              "    </script>\n",
              "\n",
              "\n",
              "      <script>\n",
              "\n",
              "function displayQuickchartButton(domScope) {\n",
              "  let quickchartButtonEl =\n",
              "    domScope.querySelector('#df-29c50232-631e-47aa-89eb-02a43e65b3e9 button.colab-df-quickchart');\n",
              "  quickchartButtonEl.style.display =\n",
              "    google.colab.kernel.accessAllowed ? 'block' : 'none';\n",
              "}\n",
              "\n",
              "        displayQuickchartButton(document);\n",
              "      </script>\n",
              "      <style>\n",
              "    .colab-df-container {\n",
              "      display:flex;\n",
              "      flex-wrap:wrap;\n",
              "      gap: 12px;\n",
              "    }\n",
              "\n",
              "    .colab-df-convert {\n",
              "      background-color: #E8F0FE;\n",
              "      border: none;\n",
              "      border-radius: 50%;\n",
              "      cursor: pointer;\n",
              "      display: none;\n",
              "      fill: #1967D2;\n",
              "      height: 32px;\n",
              "      padding: 0 0 0 0;\n",
              "      width: 32px;\n",
              "    }\n",
              "\n",
              "    .colab-df-convert:hover {\n",
              "      background-color: #E2EBFA;\n",
              "      box-shadow: 0px 1px 2px rgba(60, 64, 67, 0.3), 0px 1px 3px 1px rgba(60, 64, 67, 0.15);\n",
              "      fill: #174EA6;\n",
              "    }\n",
              "\n",
              "    [theme=dark] .colab-df-convert {\n",
              "      background-color: #3B4455;\n",
              "      fill: #D2E3FC;\n",
              "    }\n",
              "\n",
              "    [theme=dark] .colab-df-convert:hover {\n",
              "      background-color: #434B5C;\n",
              "      box-shadow: 0px 1px 3px 1px rgba(0, 0, 0, 0.15);\n",
              "      filter: drop-shadow(0px 1px 2px rgba(0, 0, 0, 0.3));\n",
              "      fill: #FFFFFF;\n",
              "    }\n",
              "  </style>\n",
              "\n",
              "      <script>\n",
              "        const buttonEl =\n",
              "          document.querySelector('#df-f9319dc7-e143-473a-b5a3-495b36c9c059 button.colab-df-convert');\n",
              "        buttonEl.style.display =\n",
              "          google.colab.kernel.accessAllowed ? 'block' : 'none';\n",
              "\n",
              "        async function convertToInteractive(key) {\n",
              "          const element = document.querySelector('#df-f9319dc7-e143-473a-b5a3-495b36c9c059');\n",
              "          const dataTable =\n",
              "            await google.colab.kernel.invokeFunction('convertToInteractive',\n",
              "                                                     [key], {});\n",
              "          if (!dataTable) return;\n",
              "\n",
              "          const docLinkHtml = 'Like what you see? Visit the ' +\n",
              "            '<a target=\"_blank\" href=https://colab.research.google.com/notebooks/data_table.ipynb>data table notebook</a>'\n",
              "            + ' to learn more about interactive tables.';\n",
              "          element.innerHTML = '';\n",
              "          dataTable['output_type'] = 'display_data';\n",
              "          await google.colab.output.renderOutput(dataTable, element);\n",
              "          const docLink = document.createElement('div');\n",
              "          docLink.innerHTML = docLinkHtml;\n",
              "          element.appendChild(docLink);\n",
              "        }\n",
              "      </script>\n",
              "    </div>\n",
              "  </div>\n"
            ]
          },
          "metadata": {},
          "execution_count": 9
        }
      ]
    },
    {
      "cell_type": "code",
      "source": [
        "df.isnull().sum()"
      ],
      "metadata": {
        "colab": {
          "base_uri": "https://localhost:8080/"
        },
        "id": "uo7UJ80MO3RD",
        "outputId": "3cf54330-05dd-428e-bd6a-825e78f298cb"
      },
      "execution_count": 10,
      "outputs": [
        {
          "output_type": "execute_result",
          "data": {
            "text/plain": [
              "Airline Name                  0\n",
              "Overall_Rating                0\n",
              "Review_Title                  0\n",
              "Review Date                   0\n",
              "Verified                      0\n",
              "Review                        0\n",
              "Aircraft                  16042\n",
              "Type Of Traveller          3738\n",
              "Seat Type                  1096\n",
              "Route                      3828\n",
              "Date Flown                 3754\n",
              "Seat Comfort               4155\n",
              "Cabin Staff Service        4260\n",
              "Food & Beverages           8671\n",
              "Ground Service             4793\n",
              "Inflight Entertainment    12342\n",
              "Wifi & Connectivity       17251\n",
              "Value For Money            1066\n",
              "Recommended                   0\n",
              "dtype: int64"
            ]
          },
          "metadata": {},
          "execution_count": 10
        }
      ]
    },
    {
      "cell_type": "code",
      "source": [
        "df['Aircraft'].value_counts()"
      ],
      "metadata": {
        "colab": {
          "base_uri": "https://localhost:8080/"
        },
        "id": "FG7l33rlO-W_",
        "outputId": "252ba21d-72a5-4136-8d22-a43efa44346d"
      },
      "execution_count": 11,
      "outputs": [
        {
          "output_type": "execute_result",
          "data": {
            "text/plain": [
              "A320                         1041\n",
              "Boeing 737-800                553\n",
              "Boeing 737                    404\n",
              "A330                          349\n",
              "Boeing 787                    349\n",
              "                             ... \n",
              "Airbus 330-300                  1\n",
              "A350-900 / Boeing 777-300       1\n",
              "A350-900 / Boeing 747-400       1\n",
              "Boeing 777/350                  1\n",
              "Boeing787                       1\n",
              "Name: Aircraft, Length: 1048, dtype: int64"
            ]
          },
          "metadata": {},
          "execution_count": 11
        }
      ]
    },
    {
      "cell_type": "code",
      "source": [
        "df['Airline Name'].value_counts()"
      ],
      "metadata": {
        "colab": {
          "base_uri": "https://localhost:8080/"
        },
        "id": "5_WiRi5GPD_h",
        "outputId": "c22b1e42-6659-4db5-f92f-0effbc1c85f4"
      },
      "execution_count": 12,
      "outputs": [
        {
          "output_type": "execute_result",
          "data": {
            "text/plain": [
              "Caribbean Airlines           100\n",
              "GoAir                        100\n",
              "Germanwings                  100\n",
              "Philippine Airlines          100\n",
              "Bangkok Airways              100\n",
              "                            ... \n",
              "JC International Airlines      1\n",
              "MEGA Maldives Airlines         1\n",
              "MAYAir                         1\n",
              "Tibet Airlines                 1\n",
              "Dimonim Air                    1\n",
              "Name: Airline Name, Length: 497, dtype: int64"
            ]
          },
          "metadata": {},
          "execution_count": 12
        }
      ]
    },
    {
      "cell_type": "code",
      "source": [
        "df.columns"
      ],
      "metadata": {
        "colab": {
          "base_uri": "https://localhost:8080/"
        },
        "id": "7cA6yw6MPGlb",
        "outputId": "768e5426-542b-4550-a18e-7b923ba0e2b9"
      },
      "execution_count": 13,
      "outputs": [
        {
          "output_type": "execute_result",
          "data": {
            "text/plain": [
              "Index(['Airline Name', 'Overall_Rating', 'Review_Title', 'Review Date',\n",
              "       'Verified', 'Review', 'Aircraft', 'Type Of Traveller', 'Seat Type',\n",
              "       'Route', 'Date Flown', 'Seat Comfort', 'Cabin Staff Service',\n",
              "       'Food & Beverages', 'Ground Service', 'Inflight Entertainment',\n",
              "       'Wifi & Connectivity', 'Value For Money', 'Recommended'],\n",
              "      dtype='object')"
            ]
          },
          "metadata": {},
          "execution_count": 13
        }
      ]
    },
    {
      "cell_type": "code",
      "source": [
        "df['Recommended'].value_counts()"
      ],
      "metadata": {
        "colab": {
          "base_uri": "https://localhost:8080/"
        },
        "id": "7WmaBuXnPIcx",
        "outputId": "2a003c23-b4c2-400e-f7a5-9270edef6749"
      },
      "execution_count": 14,
      "outputs": [
        {
          "output_type": "execute_result",
          "data": {
            "text/plain": [
              "no     15364\n",
              "yes     7807\n",
              "Name: Recommended, dtype: int64"
            ]
          },
          "metadata": {},
          "execution_count": 14
        }
      ]
    },
    {
      "cell_type": "code",
      "source": [
        "df['Overall_Rating'].value_counts()"
      ],
      "metadata": {
        "colab": {
          "base_uri": "https://localhost:8080/"
        },
        "id": "19ZOBwlPPKzz",
        "outputId": "982a9fc5-a8cd-4a11-effb-6894bcbc3a4a"
      },
      "execution_count": 15,
      "outputs": [
        {
          "output_type": "execute_result",
          "data": {
            "text/plain": [
              "1    11595\n",
              "2     2296\n",
              "9     1768\n",
              "8     1757\n",
              "3     1356\n",
              "7     1193\n",
              "4      859\n",
              "n      842\n",
              "5      830\n",
              "6      675\n",
              "Name: Overall_Rating, dtype: int64"
            ]
          },
          "metadata": {},
          "execution_count": 15
        }
      ]
    },
    {
      "cell_type": "code",
      "source": [
        "df['Overall_Rating']=df['Overall_Rating'].replace('n',10)\n",
        "df['Overall_Rating']=df['Overall_Rating'].astype(int)"
      ],
      "metadata": {
        "id": "c0Hys0TWPM68"
      },
      "execution_count": 17,
      "outputs": []
    },
    {
      "cell_type": "code",
      "source": [
        "df['Overall_Rating'].isnull().sum()"
      ],
      "metadata": {
        "colab": {
          "base_uri": "https://localhost:8080/"
        },
        "id": "lvkNkDLtPRcl",
        "outputId": "6dc05f80-a720-4a97-f586-610f4cfb2d13"
      },
      "execution_count": 18,
      "outputs": [
        {
          "output_type": "execute_result",
          "data": {
            "text/plain": [
              "0"
            ]
          },
          "metadata": {},
          "execution_count": 18
        }
      ]
    },
    {
      "cell_type": "code",
      "source": [
        "df['Type Of Traveller'].value_counts()"
      ],
      "metadata": {
        "colab": {
          "base_uri": "https://localhost:8080/"
        },
        "id": "5UNxv7qZPYow",
        "outputId": "eea5e20f-d199-40ed-8817-33160b2ed66d"
      },
      "execution_count": 19,
      "outputs": [
        {
          "output_type": "execute_result",
          "data": {
            "text/plain": [
              "Solo Leisure      7120\n",
              "Couple Leisure    5265\n",
              "Family Leisure    4352\n",
              "Business          2696\n",
              "Name: Type Of Traveller, dtype: int64"
            ]
          },
          "metadata": {},
          "execution_count": 19
        }
      ]
    },
    {
      "cell_type": "code",
      "source": [
        "# Forward-fill (fill missing values with the previous valid value)\n",
        "df['Type Of Traveller'] = df['Type Of Traveller'].fillna(method='ffill')"
      ],
      "metadata": {
        "id": "MvyfAf0kPcAE"
      },
      "execution_count": 20,
      "outputs": []
    },
    {
      "cell_type": "code",
      "source": [
        "df['Type Of Traveller'].isnull().sum()"
      ],
      "metadata": {
        "colab": {
          "base_uri": "https://localhost:8080/"
        },
        "id": "v893pnrFPh9z",
        "outputId": "5c7cd08d-de37-4db4-944c-b34497acb9ea"
      },
      "execution_count": 21,
      "outputs": [
        {
          "output_type": "execute_result",
          "data": {
            "text/plain": [
              "0"
            ]
          },
          "metadata": {},
          "execution_count": 21
        }
      ]
    },
    {
      "cell_type": "code",
      "source": [
        "df['Type Of Traveller'].value_counts()"
      ],
      "metadata": {
        "colab": {
          "base_uri": "https://localhost:8080/"
        },
        "id": "ADkD4GWXPkFU",
        "outputId": "88b02b44-79fb-431b-fc90-0ed1efb4d0e8"
      },
      "execution_count": 22,
      "outputs": [
        {
          "output_type": "execute_result",
          "data": {
            "text/plain": [
              "Solo Leisure      8386\n",
              "Couple Leisure    6290\n",
              "Family Leisure    5148\n",
              "Business          3347\n",
              "Name: Type Of Traveller, dtype: int64"
            ]
          },
          "metadata": {},
          "execution_count": 22
        }
      ]
    },
    {
      "cell_type": "code",
      "source": [
        "df['Seat Type'].value_counts()"
      ],
      "metadata": {
        "colab": {
          "base_uri": "https://localhost:8080/"
        },
        "id": "fPwYgUF2Po-A",
        "outputId": "91051f26-19c3-4484-ff79-d26d85e04f4f"
      },
      "execution_count": 23,
      "outputs": [
        {
          "output_type": "execute_result",
          "data": {
            "text/plain": [
              "Economy Class      19145\n",
              "Business Class      2098\n",
              "Premium Economy      646\n",
              "First Class          186\n",
              "Name: Seat Type, dtype: int64"
            ]
          },
          "metadata": {},
          "execution_count": 23
        }
      ]
    },
    {
      "cell_type": "code",
      "source": [
        "# Forward-fill (fill missing values with the previous valid value)\n",
        "df['Seat Type'] = df['Seat Type'].fillna(method='ffill')"
      ],
      "metadata": {
        "id": "KSBclD8fP0T3"
      },
      "execution_count": 24,
      "outputs": []
    },
    {
      "cell_type": "code",
      "source": [
        "df['Seat Type'].isnull().sum()"
      ],
      "metadata": {
        "colab": {
          "base_uri": "https://localhost:8080/"
        },
        "id": "-I4xjcCHP2ns",
        "outputId": "ece55f47-ebd1-4567-b8b4-bfa67f6dc1c1"
      },
      "execution_count": 25,
      "outputs": [
        {
          "output_type": "execute_result",
          "data": {
            "text/plain": [
              "0"
            ]
          },
          "metadata": {},
          "execution_count": 25
        }
      ]
    },
    {
      "cell_type": "code",
      "source": [
        "df['Seat Type'].value_counts()"
      ],
      "metadata": {
        "colab": {
          "base_uri": "https://localhost:8080/"
        },
        "id": "Cavk4tuPP4iX",
        "outputId": "8edd8b1f-ae57-4c9a-d87b-be620139ac92"
      },
      "execution_count": 26,
      "outputs": [
        {
          "output_type": "execute_result",
          "data": {
            "text/plain": [
              "Economy Class      20089\n",
              "Business Class      2239\n",
              "Premium Economy      649\n",
              "First Class          194\n",
              "Name: Seat Type, dtype: int64"
            ]
          },
          "metadata": {},
          "execution_count": 26
        }
      ]
    },
    {
      "cell_type": "code",
      "source": [
        "df['Seat Comfort'].value_counts()\n"
      ],
      "metadata": {
        "colab": {
          "base_uri": "https://localhost:8080/"
        },
        "id": "R-CD1udJP8uE",
        "outputId": "5f417c21-94a8-46ac-bf21-99407f92d247"
      },
      "execution_count": 27,
      "outputs": [
        {
          "output_type": "execute_result",
          "data": {
            "text/plain": [
              "1.0    6337\n",
              "3.0    3618\n",
              "4.0    3378\n",
              "2.0    2869\n",
              "5.0    2670\n",
              "0.0     144\n",
              "Name: Seat Comfort, dtype: int64"
            ]
          },
          "metadata": {},
          "execution_count": 27
        }
      ]
    },
    {
      "cell_type": "code",
      "source": [
        "from sklearn.impute import KNNImputer\n",
        "imputer = KNNImputer(n_neighbors=5)\n",
        "# Extract the column to be imputed as a 2D array\n",
        "data = df[['Seat Comfort']].values.reshape(-1, 1)\n",
        "# Perform KNN imputation\n",
        "imputed_values = imputer.fit_transform(data)\n",
        "# Update the original DataFrame with the imputed values"
      ],
      "metadata": {
        "id": "KhGnNGkMP_JC"
      },
      "execution_count": 28,
      "outputs": []
    },
    {
      "cell_type": "code",
      "source": [
        "# Round the imputed values to the nearest integers\n",
        "imputed_data_rounded = np.round(imputed_values)"
      ],
      "metadata": {
        "id": "tfxMdrvcQBMj"
      },
      "execution_count": 29,
      "outputs": []
    },
    {
      "cell_type": "code",
      "source": [
        "df['Seat Comfort']=imputed_data_rounded"
      ],
      "metadata": {
        "id": "P07zNbwNQDH0"
      },
      "execution_count": 30,
      "outputs": []
    },
    {
      "cell_type": "code",
      "source": [
        "df['Seat Comfort'].isnull().sum()"
      ],
      "metadata": {
        "colab": {
          "base_uri": "https://localhost:8080/"
        },
        "id": "Jc7n7F0yQEom",
        "outputId": "3ba8117d-65ee-4f99-acba-ca4a335fd2f6"
      },
      "execution_count": 31,
      "outputs": [
        {
          "output_type": "execute_result",
          "data": {
            "text/plain": [
              "0"
            ]
          },
          "metadata": {},
          "execution_count": 31
        }
      ]
    },
    {
      "cell_type": "code",
      "source": [
        "df['Seat Comfort'].value_counts()"
      ],
      "metadata": {
        "colab": {
          "base_uri": "https://localhost:8080/"
        },
        "id": "jtjOFAxSQGRO",
        "outputId": "dc3f860a-754a-4aef-93c9-38664a2383b6"
      },
      "execution_count": 32,
      "outputs": [
        {
          "output_type": "execute_result",
          "data": {
            "text/plain": [
              "3.0    7773\n",
              "1.0    6337\n",
              "4.0    3378\n",
              "2.0    2869\n",
              "5.0    2670\n",
              "0.0     144\n",
              "Name: Seat Comfort, dtype: int64"
            ]
          },
          "metadata": {},
          "execution_count": 32
        }
      ]
    },
    {
      "cell_type": "code",
      "source": [
        "df['Cabin Staff Service'].value_counts()"
      ],
      "metadata": {
        "colab": {
          "base_uri": "https://localhost:8080/"
        },
        "id": "nOBvwvDYQIfU",
        "outputId": "6ba588f4-9511-4e5b-b6ec-dfe6cf898e3c"
      },
      "execution_count": 33,
      "outputs": [
        {
          "output_type": "execute_result",
          "data": {
            "text/plain": [
              "1.0    5971\n",
              "5.0    4662\n",
              "4.0    2940\n",
              "3.0    2848\n",
              "2.0    2360\n",
              "0.0     130\n",
              "Name: Cabin Staff Service, dtype: int64"
            ]
          },
          "metadata": {},
          "execution_count": 33
        }
      ]
    },
    {
      "cell_type": "code",
      "source": [
        "from sklearn.impute import KNNImputer\n",
        "imputer = KNNImputer(n_neighbors=5)\n",
        "# Extract the column to be imputed as a 2D array\n",
        "data = df[['Cabin Staff Service']].values.reshape(-1, 1)\n",
        "# Perform KNN imputation\n",
        "imputed_values = imputer.fit_transform(data)\n",
        "# Round the imputed values to the nearest integers\n",
        "imputed_data_rounded = np.round(imputed_values)"
      ],
      "metadata": {
        "id": "gP9TF-rMQKel"
      },
      "execution_count": 34,
      "outputs": []
    },
    {
      "cell_type": "code",
      "source": [
        "df['Cabin Staff Service']=imputed_data_rounded"
      ],
      "metadata": {
        "id": "LlPh8VG8QMf6"
      },
      "execution_count": 35,
      "outputs": []
    },
    {
      "cell_type": "code",
      "source": [
        "df['Cabin Staff Service'].isnull().sum()"
      ],
      "metadata": {
        "colab": {
          "base_uri": "https://localhost:8080/"
        },
        "id": "-RPk7IIbQOYO",
        "outputId": "2bc24c62-65f8-4348-e19f-7e913d11cb17"
      },
      "execution_count": 36,
      "outputs": [
        {
          "output_type": "execute_result",
          "data": {
            "text/plain": [
              "0"
            ]
          },
          "metadata": {},
          "execution_count": 36
        }
      ]
    },
    {
      "cell_type": "code",
      "source": [
        "df['Cabin Staff Service'].value_counts()"
      ],
      "metadata": {
        "colab": {
          "base_uri": "https://localhost:8080/"
        },
        "id": "28GS8Lc9QQHZ",
        "outputId": "9d303e3e-f965-40cb-b8a7-b477094bd951"
      },
      "execution_count": 37,
      "outputs": [
        {
          "output_type": "execute_result",
          "data": {
            "text/plain": [
              "3.0    7108\n",
              "1.0    5971\n",
              "5.0    4662\n",
              "4.0    2940\n",
              "2.0    2360\n",
              "0.0     130\n",
              "Name: Cabin Staff Service, dtype: int64"
            ]
          },
          "metadata": {},
          "execution_count": 37
        }
      ]
    },
    {
      "cell_type": "code",
      "source": [
        "df['Ground Service'].value_counts()"
      ],
      "metadata": {
        "colab": {
          "base_uri": "https://localhost:8080/"
        },
        "id": "WYnqwnNEQR93",
        "outputId": "7f5f1539-a0ca-48f2-e3fc-a8508715b891"
      },
      "execution_count": 38,
      "outputs": [
        {
          "output_type": "execute_result",
          "data": {
            "text/plain": [
              "1.0    9473\n",
              "5.0    3159\n",
              "4.0    2347\n",
              "3.0    1803\n",
              "2.0    1596\n",
              "Name: Ground Service, dtype: int64"
            ]
          },
          "metadata": {},
          "execution_count": 38
        }
      ]
    },
    {
      "cell_type": "code",
      "source": [
        "from sklearn.impute import KNNImputer\n",
        "imputer = KNNImputer(n_neighbors=5)\n",
        "# Extract the column to be imputed as a 2D array\n",
        "data = df[['Ground Service']].values.reshape(-1, 1)\n",
        "# Perform KNN imputation\n",
        "imputed_values = imputer.fit_transform(data)\n",
        "# Round the imputed values to the nearest integers\n",
        "imputed_data_rounded = np.round(imputed_values)"
      ],
      "metadata": {
        "id": "hpxOpxUsQUgH"
      },
      "execution_count": 39,
      "outputs": []
    },
    {
      "cell_type": "code",
      "source": [
        "df['Ground Service']=imputed_data_rounded"
      ],
      "metadata": {
        "id": "DUT--RdWQfcD"
      },
      "execution_count": 40,
      "outputs": []
    },
    {
      "cell_type": "code",
      "source": [
        "df['Food & Beverages'].value_counts()"
      ],
      "metadata": {
        "colab": {
          "base_uri": "https://localhost:8080/"
        },
        "id": "p-F9rLcXQuST",
        "outputId": "68e2b725-1fc6-47be-a95d-498bf99ed209"
      },
      "execution_count": 41,
      "outputs": [
        {
          "output_type": "execute_result",
          "data": {
            "text/plain": [
              "1.0    5283\n",
              "3.0    2424\n",
              "4.0    2332\n",
              "5.0    2242\n",
              "2.0    1967\n",
              "0.0     252\n",
              "Name: Food & Beverages, dtype: int64"
            ]
          },
          "metadata": {},
          "execution_count": 41
        }
      ]
    },
    {
      "cell_type": "code",
      "source": [
        "from sklearn.impute import KNNImputer\n",
        "imputer = KNNImputer(n_neighbors=5)\n",
        "# Extract the column to be imputed as a 2D array\n",
        "data = df[['Food & Beverages']].values.reshape(-1, 1)\n",
        "# Perform KNN imputation\n",
        "imputed_values = imputer.fit_transform(data)\n",
        "# Round the imputed values to the nearest integers\n",
        "imputed_data_rounded = np.round(imputed_values)"
      ],
      "metadata": {
        "id": "NPWEZ5q5REAI"
      },
      "execution_count": 42,
      "outputs": []
    },
    {
      "cell_type": "code",
      "source": [
        "df['Food & Beverages']=imputed_data_rounded"
      ],
      "metadata": {
        "id": "ySfP2_0ORH-E"
      },
      "execution_count": 43,
      "outputs": []
    },
    {
      "cell_type": "code",
      "source": [
        "df['Food & Beverages'].isnull().sum()"
      ],
      "metadata": {
        "colab": {
          "base_uri": "https://localhost:8080/"
        },
        "id": "SsclvhY1RJ52",
        "outputId": "99177b1a-1139-49ba-ab49-8d5403fc5d58"
      },
      "execution_count": 44,
      "outputs": [
        {
          "output_type": "execute_result",
          "data": {
            "text/plain": [
              "0"
            ]
          },
          "metadata": {},
          "execution_count": 44
        }
      ]
    },
    {
      "cell_type": "code",
      "source": [
        "df['Food & Beverages'].value_counts()"
      ],
      "metadata": {
        "colab": {
          "base_uri": "https://localhost:8080/"
        },
        "id": "X6ItldcSRLTh",
        "outputId": "91233fd7-6dbe-4420-c8b5-37879413e3a7"
      },
      "execution_count": 45,
      "outputs": [
        {
          "output_type": "execute_result",
          "data": {
            "text/plain": [
              "3.0    11095\n",
              "1.0     5283\n",
              "4.0     2332\n",
              "5.0     2242\n",
              "2.0     1967\n",
              "0.0      252\n",
              "Name: Food & Beverages, dtype: int64"
            ]
          },
          "metadata": {},
          "execution_count": 45
        }
      ]
    },
    {
      "cell_type": "code",
      "source": [
        "df['Inflight Entertainment'].value_counts()"
      ],
      "metadata": {
        "colab": {
          "base_uri": "https://localhost:8080/"
        },
        "id": "eDargD9yRRxT",
        "outputId": "fac10458-429a-4be3-a79a-261b3e89545b"
      },
      "execution_count": 46,
      "outputs": [
        {
          "output_type": "execute_result",
          "data": {
            "text/plain": [
              "1.0    4845\n",
              "3.0    1700\n",
              "4.0    1329\n",
              "2.0    1278\n",
              "5.0    1156\n",
              "0.0     521\n",
              "Name: Inflight Entertainment, dtype: int64"
            ]
          },
          "metadata": {},
          "execution_count": 46
        }
      ]
    },
    {
      "cell_type": "code",
      "source": [
        "from sklearn.impute import KNNImputer\n",
        "imputer = KNNImputer(n_neighbors=7)\n",
        "# Extract the column to be imputed as a 2D array\n",
        "data = df[['Inflight Entertainment']].values.reshape(-1, 1)\n",
        "# Perform KNN imputation\n",
        "imputed_values = imputer.fit_transform(data)\n",
        "# Round the imputed values to the nearest integers\n",
        "imputed_data_rounded = np.round(imputed_values)"
      ],
      "metadata": {
        "id": "Ii-X9MMHRSLz"
      },
      "execution_count": 47,
      "outputs": []
    },
    {
      "cell_type": "code",
      "source": [
        "df['Inflight Entertainment']=imputed_data_rounded"
      ],
      "metadata": {
        "id": "VeYjZnusRWOU"
      },
      "execution_count": 48,
      "outputs": []
    },
    {
      "cell_type": "code",
      "source": [
        "df['Inflight Entertainment'].isnull().sum()"
      ],
      "metadata": {
        "colab": {
          "base_uri": "https://localhost:8080/"
        },
        "id": "SYCS63W4RWgk",
        "outputId": "dc31e62b-0ea9-4d71-de4a-70d2bd91e84e"
      },
      "execution_count": 49,
      "outputs": [
        {
          "output_type": "execute_result",
          "data": {
            "text/plain": [
              "0"
            ]
          },
          "metadata": {},
          "execution_count": 49
        }
      ]
    },
    {
      "cell_type": "code",
      "source": [
        "df['Inflight Entertainment'].value_counts()"
      ],
      "metadata": {
        "colab": {
          "base_uri": "https://localhost:8080/"
        },
        "id": "PMP0yCzyRYJ4",
        "outputId": "f063b0b5-7ff8-4655-941c-c9f5e56576bb"
      },
      "execution_count": 50,
      "outputs": [
        {
          "output_type": "execute_result",
          "data": {
            "text/plain": [
              "3.0    11095\n",
              "1.0     5283\n",
              "4.0     2332\n",
              "5.0     2242\n",
              "2.0     1967\n",
              "0.0      252\n",
              "Name: Inflight Entertainment, dtype: int64"
            ]
          },
          "metadata": {},
          "execution_count": 50
        }
      ]
    },
    {
      "cell_type": "code",
      "source": [
        "df['Wifi & Connectivity'].value_counts()"
      ],
      "metadata": {
        "colab": {
          "base_uri": "https://localhost:8080/"
        },
        "id": "EMndx6yIRZ3s",
        "outputId": "c9c09a47-b7c5-48dc-90bd-b07c90932706"
      },
      "execution_count": 51,
      "outputs": [
        {
          "output_type": "execute_result",
          "data": {
            "text/plain": [
              "1.0    4061\n",
              "5.0     492\n",
              "3.0     487\n",
              "2.0     479\n",
              "4.0     400\n",
              "0.0       1\n",
              "Name: Wifi & Connectivity, dtype: int64"
            ]
          },
          "metadata": {},
          "execution_count": 51
        }
      ]
    },
    {
      "cell_type": "code",
      "source": [
        "from sklearn.impute import KNNImputer\n",
        "imputer = KNNImputer(n_neighbors=7)\n",
        "# Extract the column to be imputed as a 2D array\n",
        "data = df[['Wifi & Connectivity']].values.reshape(-1, 1)\n",
        "# Perform KNN imputation\n",
        "imputed_values = imputer.fit_transform(data)\n",
        "# Round the imputed values to the nearest integers\n",
        "imputed_data_rounded = np.round(imputed_values)"
      ],
      "metadata": {
        "id": "LJZGDQDFRb0A"
      },
      "execution_count": 52,
      "outputs": []
    },
    {
      "cell_type": "code",
      "source": [
        "df['Wifi & Connectivity']=imputed_data_rounded"
      ],
      "metadata": {
        "id": "4J5H8laYReOQ"
      },
      "execution_count": 53,
      "outputs": []
    },
    {
      "cell_type": "code",
      "source": [
        "df['Wifi & Connectivity'].isnull().sum()"
      ],
      "metadata": {
        "colab": {
          "base_uri": "https://localhost:8080/"
        },
        "id": "jZF7iefcRf2d",
        "outputId": "14e28870-aa1f-4dfc-cd90-bbd1113f1c9f"
      },
      "execution_count": 54,
      "outputs": [
        {
          "output_type": "execute_result",
          "data": {
            "text/plain": [
              "0"
            ]
          },
          "metadata": {},
          "execution_count": 54
        }
      ]
    },
    {
      "cell_type": "code",
      "source": [
        "df['Wifi & Connectivity'].value_counts()"
      ],
      "metadata": {
        "colab": {
          "base_uri": "https://localhost:8080/"
        },
        "id": "i2-NXK9kRr-F",
        "outputId": "10e5dcbb-7d5b-4192-f43d-f7bb3331cabf"
      },
      "execution_count": 55,
      "outputs": [
        {
          "output_type": "execute_result",
          "data": {
            "text/plain": [
              "2.0    17730\n",
              "1.0     4061\n",
              "5.0      492\n",
              "3.0      487\n",
              "4.0      400\n",
              "0.0        1\n",
              "Name: Wifi & Connectivity, dtype: int64"
            ]
          },
          "metadata": {},
          "execution_count": 55
        }
      ]
    },
    {
      "cell_type": "code",
      "source": [
        "df['Value For Money'].value_counts()"
      ],
      "metadata": {
        "colab": {
          "base_uri": "https://localhost:8080/"
        },
        "id": "jVBzSUY_Rt02",
        "outputId": "707680c8-bc8c-4df8-9def-cecb00cf00d4"
      },
      "execution_count": 56,
      "outputs": [
        {
          "output_type": "execute_result",
          "data": {
            "text/plain": [
              "1.0    10136\n",
              "5.0     3808\n",
              "4.0     3379\n",
              "2.0     2444\n",
              "3.0     2201\n",
              "0.0      137\n",
              "Name: Value For Money, dtype: int64"
            ]
          },
          "metadata": {},
          "execution_count": 56
        }
      ]
    },
    {
      "cell_type": "code",
      "source": [
        "from sklearn.impute import KNNImputer\n",
        "imputer = KNNImputer(n_neighbors=3)\n",
        "# Extract the column to be imputed as a 2D array\n",
        "data = df[['Value For Money']].values.reshape(-1, 1)\n",
        "# Perform KNN imputation\n",
        "imputed_values = imputer.fit_transform(data)\n",
        "# Round the imputed values to the nearest integers\n",
        "imputed_data_rounded = np.round(imputed_values)"
      ],
      "metadata": {
        "id": "lOVFN4fCRv6f"
      },
      "execution_count": 57,
      "outputs": []
    },
    {
      "cell_type": "code",
      "source": [
        "df['Value For Money']=imputed_data_rounded"
      ],
      "metadata": {
        "id": "DFtk5qVTRykt"
      },
      "execution_count": 58,
      "outputs": []
    },
    {
      "cell_type": "code",
      "source": [
        "df['Value For Money'].isnull().sum()"
      ],
      "metadata": {
        "colab": {
          "base_uri": "https://localhost:8080/"
        },
        "id": "5FSAFVT4R0Qy",
        "outputId": "7ec58f16-3e9e-4047-9770-4f1444afc980"
      },
      "execution_count": 59,
      "outputs": [
        {
          "output_type": "execute_result",
          "data": {
            "text/plain": [
              "0"
            ]
          },
          "metadata": {},
          "execution_count": 59
        }
      ]
    },
    {
      "cell_type": "code",
      "source": [
        "df['Value For Money'].value_counts()"
      ],
      "metadata": {
        "colab": {
          "base_uri": "https://localhost:8080/"
        },
        "id": "FxOOlaC_R11K",
        "outputId": "15c249d4-3c3b-457d-c71e-b886e7d85980"
      },
      "execution_count": 60,
      "outputs": [
        {
          "output_type": "execute_result",
          "data": {
            "text/plain": [
              "1.0    10136\n",
              "5.0     3808\n",
              "2.0     3510\n",
              "4.0     3379\n",
              "3.0     2201\n",
              "0.0      137\n",
              "Name: Value For Money, dtype: int64"
            ]
          },
          "metadata": {},
          "execution_count": 60
        }
      ]
    },
    {
      "cell_type": "code",
      "source": [
        "df['Recommended'].value_counts()"
      ],
      "metadata": {
        "colab": {
          "base_uri": "https://localhost:8080/"
        },
        "id": "uRB-OdLTR37I",
        "outputId": "9de62984-9d6b-4e5c-c9f0-eda297582977"
      },
      "execution_count": 61,
      "outputs": [
        {
          "output_type": "execute_result",
          "data": {
            "text/plain": [
              "no     15364\n",
              "yes     7807\n",
              "Name: Recommended, dtype: int64"
            ]
          },
          "metadata": {},
          "execution_count": 61
        }
      ]
    },
    {
      "cell_type": "code",
      "source": [
        "df['Recommended']=df['Recommended'].map({'no':0,'yes':1})"
      ],
      "metadata": {
        "id": "E4ed8AegR7QR"
      },
      "execution_count": 62,
      "outputs": []
    },
    {
      "cell_type": "code",
      "source": [
        "df['Recommended'].value_counts()"
      ],
      "metadata": {
        "colab": {
          "base_uri": "https://localhost:8080/"
        },
        "id": "xdXau7AiR9mg",
        "outputId": "75cf0de3-4ace-483e-fb88-3700334310a0"
      },
      "execution_count": 63,
      "outputs": [
        {
          "output_type": "execute_result",
          "data": {
            "text/plain": [
              "0    15364\n",
              "1     7807\n",
              "Name: Recommended, dtype: int64"
            ]
          },
          "metadata": {},
          "execution_count": 63
        }
      ]
    },
    {
      "cell_type": "code",
      "source": [
        "df.info()"
      ],
      "metadata": {
        "colab": {
          "base_uri": "https://localhost:8080/"
        },
        "id": "dGxky6C1SQCS",
        "outputId": "9e2e315f-4e5c-475e-b155-fe223f522e2f"
      },
      "execution_count": 64,
      "outputs": [
        {
          "output_type": "stream",
          "name": "stdout",
          "text": [
            "<class 'pandas.core.frame.DataFrame'>\n",
            "RangeIndex: 23171 entries, 0 to 23170\n",
            "Data columns (total 19 columns):\n",
            " #   Column                  Non-Null Count  Dtype  \n",
            "---  ------                  --------------  -----  \n",
            " 0   Airline Name            23171 non-null  object \n",
            " 1   Overall_Rating          23171 non-null  int64  \n",
            " 2   Review_Title            23171 non-null  object \n",
            " 3   Review Date             23171 non-null  object \n",
            " 4   Verified                23171 non-null  bool   \n",
            " 5   Review                  23171 non-null  object \n",
            " 6   Aircraft                7129 non-null   object \n",
            " 7   Type Of Traveller       23171 non-null  object \n",
            " 8   Seat Type               23171 non-null  object \n",
            " 9   Route                   19343 non-null  object \n",
            " 10  Date Flown              19417 non-null  object \n",
            " 11  Seat Comfort            23171 non-null  float64\n",
            " 12  Cabin Staff Service     23171 non-null  float64\n",
            " 13  Food & Beverages        23171 non-null  float64\n",
            " 14  Ground Service          23171 non-null  float64\n",
            " 15  Inflight Entertainment  23171 non-null  float64\n",
            " 16  Wifi & Connectivity     23171 non-null  float64\n",
            " 17  Value For Money         23171 non-null  float64\n",
            " 18  Recommended             23171 non-null  int64  \n",
            "dtypes: bool(1), float64(7), int64(2), object(9)\n",
            "memory usage: 3.2+ MB\n"
          ]
        }
      ]
    },
    {
      "cell_type": "markdown",
      "source": [
        "Data Correlation"
      ],
      "metadata": {
        "id": "6mxOFj2jSWVt"
      }
    },
    {
      "cell_type": "code",
      "source": [
        "df.select_dtypes(exclude='object').columns"
      ],
      "metadata": {
        "colab": {
          "base_uri": "https://localhost:8080/"
        },
        "id": "tRmAOUBsSR4r",
        "outputId": "0e958191-236a-4789-fa7c-fa9679af85e8"
      },
      "execution_count": 65,
      "outputs": [
        {
          "output_type": "execute_result",
          "data": {
            "text/plain": [
              "Index(['Overall_Rating', 'Verified', 'Seat Comfort', 'Cabin Staff Service',\n",
              "       'Food & Beverages', 'Ground Service', 'Inflight Entertainment',\n",
              "       'Wifi & Connectivity', 'Value For Money', 'Recommended'],\n",
              "      dtype='object')"
            ]
          },
          "metadata": {},
          "execution_count": 65
        }
      ]
    },
    {
      "cell_type": "code",
      "source": [
        "corr=df[['Overall_Rating', 'Verified', 'Seat Comfort', 'Cabin Staff Service',\n",
        "       'Food & Beverages', 'Ground Service', 'Inflight Entertainment',\n",
        "       'Wifi & Connectivity', 'Value For Money', 'Recommended']].corr()\n",
        "corr"
      ],
      "metadata": {
        "colab": {
          "base_uri": "https://localhost:8080/",
          "height": 493
        },
        "id": "AR3KYyURSbCD",
        "outputId": "975524c8-2237-404b-bf4e-20a08b944538"
      },
      "execution_count": 66,
      "outputs": [
        {
          "output_type": "execute_result",
          "data": {
            "text/plain": [
              "                        Overall_Rating  Verified  Seat Comfort  \\\n",
              "Overall_Rating                1.000000 -0.204300      0.391663   \n",
              "Verified                     -0.204300  1.000000     -0.033742   \n",
              "Seat Comfort                  0.391663 -0.033742      1.000000   \n",
              "Cabin Staff Service           0.407321 -0.015314      0.751452   \n",
              "Food & Beverages              0.279099 -0.004919      0.607497   \n",
              "Ground Service                0.422733  0.030087      0.646234   \n",
              "Inflight Entertainment        0.279099 -0.004919      0.607497   \n",
              "Wifi & Connectivity           0.163347 -0.003812      0.377799   \n",
              "Value For Money               0.502475 -0.061684      0.692642   \n",
              "Recommended                   0.534450 -0.073313      0.635790   \n",
              "\n",
              "                        Cabin Staff Service  Food & Beverages  Ground Service  \\\n",
              "Overall_Rating                     0.407321          0.279099        0.422733   \n",
              "Verified                          -0.015314         -0.004919        0.030087   \n",
              "Seat Comfort                       0.751452          0.607497        0.646234   \n",
              "Cabin Staff Service                1.000000          0.639768        0.660996   \n",
              "Food & Beverages                   0.639768          1.000000        0.508019   \n",
              "Ground Service                     0.660996          0.508019        1.000000   \n",
              "Inflight Entertainment             0.639768          1.000000        0.508019   \n",
              "Wifi & Connectivity                0.360149          0.418217        0.348363   \n",
              "Value For Money                    0.697259          0.571232        0.738261   \n",
              "Recommended                        0.653938          0.537770        0.703039   \n",
              "\n",
              "                        Inflight Entertainment  Wifi & Connectivity  \\\n",
              "Overall_Rating                        0.279099             0.163347   \n",
              "Verified                             -0.004919            -0.003812   \n",
              "Seat Comfort                          0.607497             0.377799   \n",
              "Cabin Staff Service                   0.639768             0.360149   \n",
              "Food & Beverages                      1.000000             0.418217   \n",
              "Ground Service                        0.508019             0.348363   \n",
              "Inflight Entertainment                1.000000             0.418217   \n",
              "Wifi & Connectivity                   0.418217             1.000000   \n",
              "Value For Money                       0.571232             0.334175   \n",
              "Recommended                           0.537770             0.309560   \n",
              "\n",
              "                        Value For Money  Recommended  \n",
              "Overall_Rating                 0.502475     0.534450  \n",
              "Verified                      -0.061684    -0.073313  \n",
              "Seat Comfort                   0.692642     0.635790  \n",
              "Cabin Staff Service            0.697259     0.653938  \n",
              "Food & Beverages               0.571232     0.537770  \n",
              "Ground Service                 0.738261     0.703039  \n",
              "Inflight Entertainment         0.571232     0.537770  \n",
              "Wifi & Connectivity            0.334175     0.309560  \n",
              "Value For Money                1.000000     0.833874  \n",
              "Recommended                    0.833874     1.000000  "
            ],
            "text/html": [
              "\n",
              "\n",
              "  <div id=\"df-08fb0147-1161-413e-beca-d343654a5eb6\">\n",
              "    <div class=\"colab-df-container\">\n",
              "      <div>\n",
              "<style scoped>\n",
              "    .dataframe tbody tr th:only-of-type {\n",
              "        vertical-align: middle;\n",
              "    }\n",
              "\n",
              "    .dataframe tbody tr th {\n",
              "        vertical-align: top;\n",
              "    }\n",
              "\n",
              "    .dataframe thead th {\n",
              "        text-align: right;\n",
              "    }\n",
              "</style>\n",
              "<table border=\"1\" class=\"dataframe\">\n",
              "  <thead>\n",
              "    <tr style=\"text-align: right;\">\n",
              "      <th></th>\n",
              "      <th>Overall_Rating</th>\n",
              "      <th>Verified</th>\n",
              "      <th>Seat Comfort</th>\n",
              "      <th>Cabin Staff Service</th>\n",
              "      <th>Food &amp; Beverages</th>\n",
              "      <th>Ground Service</th>\n",
              "      <th>Inflight Entertainment</th>\n",
              "      <th>Wifi &amp; Connectivity</th>\n",
              "      <th>Value For Money</th>\n",
              "      <th>Recommended</th>\n",
              "    </tr>\n",
              "  </thead>\n",
              "  <tbody>\n",
              "    <tr>\n",
              "      <th>Overall_Rating</th>\n",
              "      <td>1.000000</td>\n",
              "      <td>-0.204300</td>\n",
              "      <td>0.391663</td>\n",
              "      <td>0.407321</td>\n",
              "      <td>0.279099</td>\n",
              "      <td>0.422733</td>\n",
              "      <td>0.279099</td>\n",
              "      <td>0.163347</td>\n",
              "      <td>0.502475</td>\n",
              "      <td>0.534450</td>\n",
              "    </tr>\n",
              "    <tr>\n",
              "      <th>Verified</th>\n",
              "      <td>-0.204300</td>\n",
              "      <td>1.000000</td>\n",
              "      <td>-0.033742</td>\n",
              "      <td>-0.015314</td>\n",
              "      <td>-0.004919</td>\n",
              "      <td>0.030087</td>\n",
              "      <td>-0.004919</td>\n",
              "      <td>-0.003812</td>\n",
              "      <td>-0.061684</td>\n",
              "      <td>-0.073313</td>\n",
              "    </tr>\n",
              "    <tr>\n",
              "      <th>Seat Comfort</th>\n",
              "      <td>0.391663</td>\n",
              "      <td>-0.033742</td>\n",
              "      <td>1.000000</td>\n",
              "      <td>0.751452</td>\n",
              "      <td>0.607497</td>\n",
              "      <td>0.646234</td>\n",
              "      <td>0.607497</td>\n",
              "      <td>0.377799</td>\n",
              "      <td>0.692642</td>\n",
              "      <td>0.635790</td>\n",
              "    </tr>\n",
              "    <tr>\n",
              "      <th>Cabin Staff Service</th>\n",
              "      <td>0.407321</td>\n",
              "      <td>-0.015314</td>\n",
              "      <td>0.751452</td>\n",
              "      <td>1.000000</td>\n",
              "      <td>0.639768</td>\n",
              "      <td>0.660996</td>\n",
              "      <td>0.639768</td>\n",
              "      <td>0.360149</td>\n",
              "      <td>0.697259</td>\n",
              "      <td>0.653938</td>\n",
              "    </tr>\n",
              "    <tr>\n",
              "      <th>Food &amp; Beverages</th>\n",
              "      <td>0.279099</td>\n",
              "      <td>-0.004919</td>\n",
              "      <td>0.607497</td>\n",
              "      <td>0.639768</td>\n",
              "      <td>1.000000</td>\n",
              "      <td>0.508019</td>\n",
              "      <td>1.000000</td>\n",
              "      <td>0.418217</td>\n",
              "      <td>0.571232</td>\n",
              "      <td>0.537770</td>\n",
              "    </tr>\n",
              "    <tr>\n",
              "      <th>Ground Service</th>\n",
              "      <td>0.422733</td>\n",
              "      <td>0.030087</td>\n",
              "      <td>0.646234</td>\n",
              "      <td>0.660996</td>\n",
              "      <td>0.508019</td>\n",
              "      <td>1.000000</td>\n",
              "      <td>0.508019</td>\n",
              "      <td>0.348363</td>\n",
              "      <td>0.738261</td>\n",
              "      <td>0.703039</td>\n",
              "    </tr>\n",
              "    <tr>\n",
              "      <th>Inflight Entertainment</th>\n",
              "      <td>0.279099</td>\n",
              "      <td>-0.004919</td>\n",
              "      <td>0.607497</td>\n",
              "      <td>0.639768</td>\n",
              "      <td>1.000000</td>\n",
              "      <td>0.508019</td>\n",
              "      <td>1.000000</td>\n",
              "      <td>0.418217</td>\n",
              "      <td>0.571232</td>\n",
              "      <td>0.537770</td>\n",
              "    </tr>\n",
              "    <tr>\n",
              "      <th>Wifi &amp; Connectivity</th>\n",
              "      <td>0.163347</td>\n",
              "      <td>-0.003812</td>\n",
              "      <td>0.377799</td>\n",
              "      <td>0.360149</td>\n",
              "      <td>0.418217</td>\n",
              "      <td>0.348363</td>\n",
              "      <td>0.418217</td>\n",
              "      <td>1.000000</td>\n",
              "      <td>0.334175</td>\n",
              "      <td>0.309560</td>\n",
              "    </tr>\n",
              "    <tr>\n",
              "      <th>Value For Money</th>\n",
              "      <td>0.502475</td>\n",
              "      <td>-0.061684</td>\n",
              "      <td>0.692642</td>\n",
              "      <td>0.697259</td>\n",
              "      <td>0.571232</td>\n",
              "      <td>0.738261</td>\n",
              "      <td>0.571232</td>\n",
              "      <td>0.334175</td>\n",
              "      <td>1.000000</td>\n",
              "      <td>0.833874</td>\n",
              "    </tr>\n",
              "    <tr>\n",
              "      <th>Recommended</th>\n",
              "      <td>0.534450</td>\n",
              "      <td>-0.073313</td>\n",
              "      <td>0.635790</td>\n",
              "      <td>0.653938</td>\n",
              "      <td>0.537770</td>\n",
              "      <td>0.703039</td>\n",
              "      <td>0.537770</td>\n",
              "      <td>0.309560</td>\n",
              "      <td>0.833874</td>\n",
              "      <td>1.000000</td>\n",
              "    </tr>\n",
              "  </tbody>\n",
              "</table>\n",
              "</div>\n",
              "      <button class=\"colab-df-convert\" onclick=\"convertToInteractive('df-08fb0147-1161-413e-beca-d343654a5eb6')\"\n",
              "              title=\"Convert this dataframe to an interactive table.\"\n",
              "              style=\"display:none;\">\n",
              "\n",
              "  <svg xmlns=\"http://www.w3.org/2000/svg\" height=\"24px\"viewBox=\"0 0 24 24\"\n",
              "       width=\"24px\">\n",
              "    <path d=\"M0 0h24v24H0V0z\" fill=\"none\"/>\n",
              "    <path d=\"M18.56 5.44l.94 2.06.94-2.06 2.06-.94-2.06-.94-.94-2.06-.94 2.06-2.06.94zm-11 1L8.5 8.5l.94-2.06 2.06-.94-2.06-.94L8.5 2.5l-.94 2.06-2.06.94zm10 10l.94 2.06.94-2.06 2.06-.94-2.06-.94-.94-2.06-.94 2.06-2.06.94z\"/><path d=\"M17.41 7.96l-1.37-1.37c-.4-.4-.92-.59-1.43-.59-.52 0-1.04.2-1.43.59L10.3 9.45l-7.72 7.72c-.78.78-.78 2.05 0 2.83L4 21.41c.39.39.9.59 1.41.59.51 0 1.02-.2 1.41-.59l7.78-7.78 2.81-2.81c.8-.78.8-2.07 0-2.86zM5.41 20L4 18.59l7.72-7.72 1.47 1.35L5.41 20z\"/>\n",
              "  </svg>\n",
              "      </button>\n",
              "\n",
              "\n",
              "\n",
              "    <div id=\"df-dc5ec657-f3a7-411e-8f3d-4b277dbeef03\">\n",
              "      <button class=\"colab-df-quickchart\" onclick=\"quickchart('df-dc5ec657-f3a7-411e-8f3d-4b277dbeef03')\"\n",
              "              title=\"Suggest charts.\"\n",
              "              style=\"display:none;\">\n",
              "\n",
              "<svg xmlns=\"http://www.w3.org/2000/svg\" height=\"24px\"viewBox=\"0 0 24 24\"\n",
              "     width=\"24px\">\n",
              "    <g>\n",
              "        <path d=\"M19 3H5c-1.1 0-2 .9-2 2v14c0 1.1.9 2 2 2h14c1.1 0 2-.9 2-2V5c0-1.1-.9-2-2-2zM9 17H7v-7h2v7zm4 0h-2V7h2v10zm4 0h-2v-4h2v4z\"/>\n",
              "    </g>\n",
              "</svg>\n",
              "      </button>\n",
              "    </div>\n",
              "\n",
              "<style>\n",
              "  .colab-df-quickchart {\n",
              "    background-color: #E8F0FE;\n",
              "    border: none;\n",
              "    border-radius: 50%;\n",
              "    cursor: pointer;\n",
              "    display: none;\n",
              "    fill: #1967D2;\n",
              "    height: 32px;\n",
              "    padding: 0 0 0 0;\n",
              "    width: 32px;\n",
              "  }\n",
              "\n",
              "  .colab-df-quickchart:hover {\n",
              "    background-color: #E2EBFA;\n",
              "    box-shadow: 0px 1px 2px rgba(60, 64, 67, 0.3), 0px 1px 3px 1px rgba(60, 64, 67, 0.15);\n",
              "    fill: #174EA6;\n",
              "  }\n",
              "\n",
              "  [theme=dark] .colab-df-quickchart {\n",
              "    background-color: #3B4455;\n",
              "    fill: #D2E3FC;\n",
              "  }\n",
              "\n",
              "  [theme=dark] .colab-df-quickchart:hover {\n",
              "    background-color: #434B5C;\n",
              "    box-shadow: 0px 1px 3px 1px rgba(0, 0, 0, 0.15);\n",
              "    filter: drop-shadow(0px 1px 2px rgba(0, 0, 0, 0.3));\n",
              "    fill: #FFFFFF;\n",
              "  }\n",
              "</style>\n",
              "\n",
              "    <script>\n",
              "      async function quickchart(key) {\n",
              "        const containerElement = document.querySelector('#' + key);\n",
              "        const charts = await google.colab.kernel.invokeFunction(\n",
              "            'suggestCharts', [key], {});\n",
              "      }\n",
              "    </script>\n",
              "\n",
              "\n",
              "      <script>\n",
              "\n",
              "function displayQuickchartButton(domScope) {\n",
              "  let quickchartButtonEl =\n",
              "    domScope.querySelector('#df-dc5ec657-f3a7-411e-8f3d-4b277dbeef03 button.colab-df-quickchart');\n",
              "  quickchartButtonEl.style.display =\n",
              "    google.colab.kernel.accessAllowed ? 'block' : 'none';\n",
              "}\n",
              "\n",
              "        displayQuickchartButton(document);\n",
              "      </script>\n",
              "      <style>\n",
              "    .colab-df-container {\n",
              "      display:flex;\n",
              "      flex-wrap:wrap;\n",
              "      gap: 12px;\n",
              "    }\n",
              "\n",
              "    .colab-df-convert {\n",
              "      background-color: #E8F0FE;\n",
              "      border: none;\n",
              "      border-radius: 50%;\n",
              "      cursor: pointer;\n",
              "      display: none;\n",
              "      fill: #1967D2;\n",
              "      height: 32px;\n",
              "      padding: 0 0 0 0;\n",
              "      width: 32px;\n",
              "    }\n",
              "\n",
              "    .colab-df-convert:hover {\n",
              "      background-color: #E2EBFA;\n",
              "      box-shadow: 0px 1px 2px rgba(60, 64, 67, 0.3), 0px 1px 3px 1px rgba(60, 64, 67, 0.15);\n",
              "      fill: #174EA6;\n",
              "    }\n",
              "\n",
              "    [theme=dark] .colab-df-convert {\n",
              "      background-color: #3B4455;\n",
              "      fill: #D2E3FC;\n",
              "    }\n",
              "\n",
              "    [theme=dark] .colab-df-convert:hover {\n",
              "      background-color: #434B5C;\n",
              "      box-shadow: 0px 1px 3px 1px rgba(0, 0, 0, 0.15);\n",
              "      filter: drop-shadow(0px 1px 2px rgba(0, 0, 0, 0.3));\n",
              "      fill: #FFFFFF;\n",
              "    }\n",
              "  </style>\n",
              "\n",
              "      <script>\n",
              "        const buttonEl =\n",
              "          document.querySelector('#df-08fb0147-1161-413e-beca-d343654a5eb6 button.colab-df-convert');\n",
              "        buttonEl.style.display =\n",
              "          google.colab.kernel.accessAllowed ? 'block' : 'none';\n",
              "\n",
              "        async function convertToInteractive(key) {\n",
              "          const element = document.querySelector('#df-08fb0147-1161-413e-beca-d343654a5eb6');\n",
              "          const dataTable =\n",
              "            await google.colab.kernel.invokeFunction('convertToInteractive',\n",
              "                                                     [key], {});\n",
              "          if (!dataTable) return;\n",
              "\n",
              "          const docLinkHtml = 'Like what you see? Visit the ' +\n",
              "            '<a target=\"_blank\" href=https://colab.research.google.com/notebooks/data_table.ipynb>data table notebook</a>'\n",
              "            + ' to learn more about interactive tables.';\n",
              "          element.innerHTML = '';\n",
              "          dataTable['output_type'] = 'display_data';\n",
              "          await google.colab.output.renderOutput(dataTable, element);\n",
              "          const docLink = document.createElement('div');\n",
              "          docLink.innerHTML = docLinkHtml;\n",
              "          element.appendChild(docLink);\n",
              "        }\n",
              "      </script>\n",
              "    </div>\n",
              "  </div>\n"
            ]
          },
          "metadata": {},
          "execution_count": 66
        }
      ]
    },
    {
      "cell_type": "code",
      "source": [
        "df.info()"
      ],
      "metadata": {
        "colab": {
          "base_uri": "https://localhost:8080/"
        },
        "id": "vKpgFLV3SdDg",
        "outputId": "cf2a63a9-abce-4309-87b9-dc35d1ef77ba"
      },
      "execution_count": 67,
      "outputs": [
        {
          "output_type": "stream",
          "name": "stdout",
          "text": [
            "<class 'pandas.core.frame.DataFrame'>\n",
            "RangeIndex: 23171 entries, 0 to 23170\n",
            "Data columns (total 19 columns):\n",
            " #   Column                  Non-Null Count  Dtype  \n",
            "---  ------                  --------------  -----  \n",
            " 0   Airline Name            23171 non-null  object \n",
            " 1   Overall_Rating          23171 non-null  int64  \n",
            " 2   Review_Title            23171 non-null  object \n",
            " 3   Review Date             23171 non-null  object \n",
            " 4   Verified                23171 non-null  bool   \n",
            " 5   Review                  23171 non-null  object \n",
            " 6   Aircraft                7129 non-null   object \n",
            " 7   Type Of Traveller       23171 non-null  object \n",
            " 8   Seat Type               23171 non-null  object \n",
            " 9   Route                   19343 non-null  object \n",
            " 10  Date Flown              19417 non-null  object \n",
            " 11  Seat Comfort            23171 non-null  float64\n",
            " 12  Cabin Staff Service     23171 non-null  float64\n",
            " 13  Food & Beverages        23171 non-null  float64\n",
            " 14  Ground Service          23171 non-null  float64\n",
            " 15  Inflight Entertainment  23171 non-null  float64\n",
            " 16  Wifi & Connectivity     23171 non-null  float64\n",
            " 17  Value For Money         23171 non-null  float64\n",
            " 18  Recommended             23171 non-null  int64  \n",
            "dtypes: bool(1), float64(7), int64(2), object(9)\n",
            "memory usage: 3.2+ MB\n"
          ]
        }
      ]
    },
    {
      "cell_type": "code",
      "source": [
        "df.drop(['Wifi & Connectivity','Inflight Entertainment','Verified','Aircraft','Airline Name','Review Date','Route','Date Flown'],axis=1,inplace=True)"
      ],
      "metadata": {
        "id": "iBloPK6gSe58"
      },
      "execution_count": 68,
      "outputs": []
    },
    {
      "cell_type": "code",
      "source": [
        "df.info()"
      ],
      "metadata": {
        "colab": {
          "base_uri": "https://localhost:8080/"
        },
        "id": "1VQ68g1DShZh",
        "outputId": "f7e31440-1ad2-4c40-a6d2-70b8be67b205"
      },
      "execution_count": 69,
      "outputs": [
        {
          "output_type": "stream",
          "name": "stdout",
          "text": [
            "<class 'pandas.core.frame.DataFrame'>\n",
            "RangeIndex: 23171 entries, 0 to 23170\n",
            "Data columns (total 11 columns):\n",
            " #   Column               Non-Null Count  Dtype  \n",
            "---  ------               --------------  -----  \n",
            " 0   Overall_Rating       23171 non-null  int64  \n",
            " 1   Review_Title         23171 non-null  object \n",
            " 2   Review               23171 non-null  object \n",
            " 3   Type Of Traveller    23171 non-null  object \n",
            " 4   Seat Type            23171 non-null  object \n",
            " 5   Seat Comfort         23171 non-null  float64\n",
            " 6   Cabin Staff Service  23171 non-null  float64\n",
            " 7   Food & Beverages     23171 non-null  float64\n",
            " 8   Ground Service       23171 non-null  float64\n",
            " 9   Value For Money      23171 non-null  float64\n",
            " 10  Recommended          23171 non-null  int64  \n",
            "dtypes: float64(5), int64(2), object(4)\n",
            "memory usage: 1.9+ MB\n"
          ]
        }
      ]
    },
    {
      "cell_type": "markdown",
      "source": [
        "Encoding"
      ],
      "metadata": {
        "id": "KYo2XIk1SmTa"
      }
    },
    {
      "cell_type": "code",
      "source": [
        "newdf=pd.get_dummies(df, columns=['Type Of Traveller'], prefix = ['traveller'],dtype=int)"
      ],
      "metadata": {
        "id": "rYzI77dqSl-F"
      },
      "execution_count": 71,
      "outputs": []
    },
    {
      "cell_type": "code",
      "source": [
        "new_df=pd.get_dummies(newdf, columns=['Seat Type'], prefix = ['seat'],dtype=int)"
      ],
      "metadata": {
        "id": "ib3-wrVdSinV"
      },
      "execution_count": 72,
      "outputs": []
    },
    {
      "cell_type": "code",
      "source": [
        "new_df.shape"
      ],
      "metadata": {
        "colab": {
          "base_uri": "https://localhost:8080/"
        },
        "id": "dNVs1qGdSrKF",
        "outputId": "e778a2a8-cb35-48ed-a63c-a494187a1783"
      },
      "execution_count": 73,
      "outputs": [
        {
          "output_type": "execute_result",
          "data": {
            "text/plain": [
              "(23171, 17)"
            ]
          },
          "metadata": {},
          "execution_count": 73
        }
      ]
    },
    {
      "cell_type": "code",
      "source": [
        "new_df.info()"
      ],
      "metadata": {
        "colab": {
          "base_uri": "https://localhost:8080/"
        },
        "id": "JYfb4KtgSxHp",
        "outputId": "2e5cc781-6d1f-4ca0-fc42-ec5aa9b04d81"
      },
      "execution_count": 74,
      "outputs": [
        {
          "output_type": "stream",
          "name": "stdout",
          "text": [
            "<class 'pandas.core.frame.DataFrame'>\n",
            "RangeIndex: 23171 entries, 0 to 23170\n",
            "Data columns (total 17 columns):\n",
            " #   Column                    Non-Null Count  Dtype  \n",
            "---  ------                    --------------  -----  \n",
            " 0   Overall_Rating            23171 non-null  int64  \n",
            " 1   Review_Title              23171 non-null  object \n",
            " 2   Review                    23171 non-null  object \n",
            " 3   Seat Comfort              23171 non-null  float64\n",
            " 4   Cabin Staff Service       23171 non-null  float64\n",
            " 5   Food & Beverages          23171 non-null  float64\n",
            " 6   Ground Service            23171 non-null  float64\n",
            " 7   Value For Money           23171 non-null  float64\n",
            " 8   Recommended               23171 non-null  int64  \n",
            " 9   traveller_Business        23171 non-null  int64  \n",
            " 10  traveller_Couple Leisure  23171 non-null  int64  \n",
            " 11  traveller_Family Leisure  23171 non-null  int64  \n",
            " 12  traveller_Solo Leisure    23171 non-null  int64  \n",
            " 13  seat_Business Class       23171 non-null  int64  \n",
            " 14  seat_Economy Class        23171 non-null  int64  \n",
            " 15  seat_First Class          23171 non-null  int64  \n",
            " 16  seat_Premium Economy      23171 non-null  int64  \n",
            "dtypes: float64(5), int64(10), object(2)\n",
            "memory usage: 3.0+ MB\n"
          ]
        }
      ]
    },
    {
      "cell_type": "code",
      "source": [
        "target=new_df.pop('Recommended')\n",
        "new_df['Recommended']=target"
      ],
      "metadata": {
        "id": "duPGd1uWSxY4"
      },
      "execution_count": 75,
      "outputs": []
    },
    {
      "cell_type": "code",
      "source": [
        "new_df.info()"
      ],
      "metadata": {
        "colab": {
          "base_uri": "https://localhost:8080/"
        },
        "id": "CJ8EA_bUSz9i",
        "outputId": "60dc76e9-cb34-40cd-b540-720b702509cd"
      },
      "execution_count": 76,
      "outputs": [
        {
          "output_type": "stream",
          "name": "stdout",
          "text": [
            "<class 'pandas.core.frame.DataFrame'>\n",
            "RangeIndex: 23171 entries, 0 to 23170\n",
            "Data columns (total 17 columns):\n",
            " #   Column                    Non-Null Count  Dtype  \n",
            "---  ------                    --------------  -----  \n",
            " 0   Overall_Rating            23171 non-null  int64  \n",
            " 1   Review_Title              23171 non-null  object \n",
            " 2   Review                    23171 non-null  object \n",
            " 3   Seat Comfort              23171 non-null  float64\n",
            " 4   Cabin Staff Service       23171 non-null  float64\n",
            " 5   Food & Beverages          23171 non-null  float64\n",
            " 6   Ground Service            23171 non-null  float64\n",
            " 7   Value For Money           23171 non-null  float64\n",
            " 8   traveller_Business        23171 non-null  int64  \n",
            " 9   traveller_Couple Leisure  23171 non-null  int64  \n",
            " 10  traveller_Family Leisure  23171 non-null  int64  \n",
            " 11  traveller_Solo Leisure    23171 non-null  int64  \n",
            " 12  seat_Business Class       23171 non-null  int64  \n",
            " 13  seat_Economy Class        23171 non-null  int64  \n",
            " 14  seat_First Class          23171 non-null  int64  \n",
            " 15  seat_Premium Economy      23171 non-null  int64  \n",
            " 16  Recommended               23171 non-null  int64  \n",
            "dtypes: float64(5), int64(10), object(2)\n",
            "memory usage: 3.0+ MB\n"
          ]
        }
      ]
    },
    {
      "cell_type": "markdown",
      "source": [
        "Text Data Processing"
      ],
      "metadata": {
        "id": "4ZXlCoUcS4-Z"
      }
    },
    {
      "cell_type": "code",
      "source": [
        "new_df['Review_Title'].value_counts()"
      ],
      "metadata": {
        "colab": {
          "base_uri": "https://localhost:8080/"
        },
        "id": "qS36LWa6S1ql",
        "outputId": "d20f28fc-7375-4f70-ff88-b25b2cc9e9ff"
      },
      "execution_count": 77,
      "outputs": [
        {
          "output_type": "execute_result",
          "data": {
            "text/plain": [
              "Onur Air customer review                  84\n",
              "US Airways customer review                75\n",
              "Germanwings customer review               74\n",
              "Meridiana customer review                 71\n",
              "CityJet customer review                   68\n",
              "                                          ..\n",
              "\"I will not fly Delta again\"               1\n",
              "\"could not have been kinder\"               1\n",
              "\"Terrible experience with Delta\"           1\n",
              "\"Got delayed more than 4 hours\"            1\n",
              "\"lost all of our money with no refund\"     1\n",
              "Name: Review_Title, Length: 17219, dtype: int64"
            ]
          },
          "metadata": {},
          "execution_count": 77
        }
      ]
    },
    {
      "cell_type": "code",
      "source": [
        "new_df['Review']"
      ],
      "metadata": {
        "colab": {
          "base_uri": "https://localhost:8080/"
        },
        "id": "gOIRoGJiS9zJ",
        "outputId": "12c43955-dca9-4f5f-8772-f0038fdc6403"
      },
      "execution_count": 78,
      "outputs": [
        {
          "output_type": "execute_result",
          "data": {
            "text/plain": [
              "0          Moroni to Moheli. Turned out to be a pretty ...\n",
              "1         Moroni to Anjouan. It is a very small airline...\n",
              "2          Anjouan to Dzaoudzi. A very small airline an...\n",
              "3          Please do a favor yourself and do not fly wi...\n",
              "4         Do not book a flight with this airline! My fr...\n",
              "                               ...                        \n",
              "23166     Bangkok to Tokyo. I’ve flown many low cost ai...\n",
              "23167      Avoid at all costs. I booked flights to go f...\n",
              "23168      Flight was leaving at 23.15 and after an hou...\n",
              "23169     Zipair is JAL’s budget airline. They don’t ha...\n",
              "23170      They lied about connection in Narita and we ...\n",
              "Name: Review, Length: 23171, dtype: object"
            ]
          },
          "metadata": {},
          "execution_count": 78
        }
      ]
    },
    {
      "cell_type": "code",
      "source": [
        "def lower(text):\n",
        "    text=text.lower()\n",
        "    return text.strip()"
      ],
      "metadata": {
        "id": "6DK6kzeZS_pf"
      },
      "execution_count": 79,
      "outputs": []
    },
    {
      "cell_type": "code",
      "source": [
        "new_df['Review_Title']=new_df['Review_Title'].apply(lambda x:lower(x))"
      ],
      "metadata": {
        "id": "lOBokdSaTCIi"
      },
      "execution_count": 80,
      "outputs": []
    },
    {
      "cell_type": "code",
      "source": [
        "new_df['Review']=new_df['Review'].apply(lambda x:lower(x))"
      ],
      "metadata": {
        "id": "I00i5SRoTF6D"
      },
      "execution_count": 81,
      "outputs": []
    },
    {
      "cell_type": "code",
      "source": [
        "import string\n",
        "string.punctuation\n",
        "from string import re"
      ],
      "metadata": {
        "colab": {
          "base_uri": "https://localhost:8080/",
          "height": 35
        },
        "id": "NMD9nAIjTGLx",
        "outputId": "710354e4-0734-439c-8665-a9966076c458"
      },
      "execution_count": 83,
      "outputs": [
        {
          "output_type": "execute_result",
          "data": {
            "text/plain": [
              "'!\"#$%&\\'()*+,-./:;<=>?@[\\\\]^_`{|}~'"
            ],
            "application/vnd.google.colaboratory.intrinsic+json": {
              "type": "string"
            }
          },
          "metadata": {},
          "execution_count": 83
        }
      ]
    },
    {
      "cell_type": "code",
      "source": [
        "import string\n",
        "def remove_pinctuation(text):\n",
        "    ch_text=\"\".join([i for i in text if i not in string.punctuation])\n",
        "    return ch_text"
      ],
      "metadata": {
        "id": "b7PxQjQ0TfUY"
      },
      "execution_count": 86,
      "outputs": []
    },
    {
      "cell_type": "code",
      "source": [
        "new_df['Review_Title']=new_df['Review_Title'].apply(lambda x:remove_pinctuation(x))"
      ],
      "metadata": {
        "id": "41qOvjBQTJJP"
      },
      "execution_count": 87,
      "outputs": []
    },
    {
      "cell_type": "code",
      "source": [
        "new_df['Review_Title']=new_df['Review_Title'].apply(lambda x:remove_pinctuation(x))\n"
      ],
      "metadata": {
        "id": "LnAEvPpvTLXW"
      },
      "execution_count": 88,
      "outputs": []
    },
    {
      "cell_type": "code",
      "source": [
        "new_df['Review_Title']"
      ],
      "metadata": {
        "colab": {
          "base_uri": "https://localhost:8080/"
        },
        "id": "9Ek-SY4gTk6E",
        "outputId": "87055bb7-cbe0-42a3-a82b-58a4afa0931c"
      },
      "execution_count": 89,
      "outputs": [
        {
          "output_type": "execute_result",
          "data": {
            "text/plain": [
              "0                       pretty decent airline\n",
              "1                          not a good airline\n",
              "2                flight was fortunately short\n",
              "3           i will never fly again with adria\n",
              "4         it ruined our last days of holidays\n",
              "                         ...                 \n",
              "23166            customer service is terrible\n",
              "23167                      avoid at all costs\n",
              "23168            will not recommend to anyone\n",
              "23169               it was immaculately clean\n",
              "23170    lost all of our money with no refund\n",
              "Name: Review_Title, Length: 23171, dtype: object"
            ]
          },
          "metadata": {},
          "execution_count": 89
        }
      ]
    },
    {
      "cell_type": "code",
      "source": [
        "new_df['Review']=new_df['Review'].apply(lambda x:remove_pinctuation(x))"
      ],
      "metadata": {
        "id": "swlnS0BSTp-b"
      },
      "execution_count": 90,
      "outputs": []
    },
    {
      "cell_type": "code",
      "source": [
        "new_df['Review']"
      ],
      "metadata": {
        "colab": {
          "base_uri": "https://localhost:8080/"
        },
        "id": "uVbicOt-TsGj",
        "outputId": "91785b7a-5ecd-413d-89da-d5b02568b0d8"
      },
      "execution_count": 91,
      "outputs": [
        {
          "output_type": "execute_result",
          "data": {
            "text/plain": [
              "0        moroni to moheli turned out to be a pretty dec...\n",
              "1        moroni to anjouan it is a very small airline m...\n",
              "2        anjouan to dzaoudzi a very small airline and t...\n",
              "3        please do a favor yourself and do not fly with...\n",
              "4        do not book a flight with this airline my frie...\n",
              "                               ...                        \n",
              "23166    bangkok to tokyo i’ve flown many low cost airl...\n",
              "23167    avoid at all costs i booked flights to go from...\n",
              "23168    flight was leaving at 2315 and after an hour a...\n",
              "23169    zipair is jal’s budget airline they don’t have...\n",
              "23170    they lied about connection in narita and we lo...\n",
              "Name: Review, Length: 23171, dtype: object"
            ]
          },
          "metadata": {},
          "execution_count": 91
        }
      ]
    },
    {
      "cell_type": "code",
      "source": [
        "import re\n",
        "def remove_digit(text):\n",
        "    clean_text=re.sub(r\"\\b[0-9]+\\b\\s*\",\"\",text)\n",
        "    return(clean_text)"
      ],
      "metadata": {
        "id": "dWYiPnWsTtmE"
      },
      "execution_count": 92,
      "outputs": []
    },
    {
      "cell_type": "code",
      "source": [
        "new_df['Review_Title']=new_df['Review_Title'].apply(lambda x:remove_digit(x))"
      ],
      "metadata": {
        "id": "FqRv1KwITwnB"
      },
      "execution_count": 93,
      "outputs": []
    },
    {
      "cell_type": "code",
      "source": [
        "new_df['Review']=new_df['Review'].apply(lambda x:remove_digit(x))"
      ],
      "metadata": {
        "id": "66XI0VNcTyO9"
      },
      "execution_count": 94,
      "outputs": []
    },
    {
      "cell_type": "markdown",
      "source": [
        "Removing Stop Words\n"
      ],
      "metadata": {
        "id": "X4me_UZYT76-"
      }
    },
    {
      "cell_type": "code",
      "source": [
        "import nltk\n",
        "nltk.download(\"stopwords\")\n",
        "nltk.download(\"punkt\")\n",
        "stopwords=nltk.corpus.stopwords.words('english')"
      ],
      "metadata": {
        "colab": {
          "base_uri": "https://localhost:8080/"
        },
        "id": "w0NrSdtQTz8p",
        "outputId": "905d2a6d-05b6-488c-d8bd-00b9bd1d3f26"
      },
      "execution_count": 100,
      "outputs": [
        {
          "output_type": "stream",
          "name": "stderr",
          "text": [
            "[nltk_data] Downloading package stopwords to /root/nltk_data...\n",
            "[nltk_data]   Package stopwords is already up-to-date!\n",
            "[nltk_data] Downloading package punkt to /root/nltk_data...\n",
            "[nltk_data]   Unzipping tokenizers/punkt.zip.\n"
          ]
        }
      ]
    },
    {
      "cell_type": "code",
      "source": [
        "def remove_stopwords(text):\n",
        "    tokens=nltk.word_tokenize(text)\n",
        "    output=\" \".join(i for i in tokens if i not in stopwords)\n",
        "    return output"
      ],
      "metadata": {
        "id": "_kwr-8IlT1yV"
      },
      "execution_count": 101,
      "outputs": []
    },
    {
      "cell_type": "code",
      "source": [
        "new_df['Review_Title']=new_df['Review_Title'].apply(lambda x:remove_stopwords(x))"
      ],
      "metadata": {
        "id": "26_Qjj-GVRig"
      },
      "execution_count": 102,
      "outputs": []
    },
    {
      "cell_type": "code",
      "source": [
        "new_df['Review_Title']"
      ],
      "metadata": {
        "colab": {
          "base_uri": "https://localhost:8080/"
        },
        "id": "a8VEn2ZqVThZ",
        "outputId": "55d55130-facd-49ec-d0e8-d66d541d2bdb"
      },
      "execution_count": 104,
      "outputs": [
        {
          "output_type": "execute_result",
          "data": {
            "text/plain": [
              "0            pretty decent airline\n",
              "1                     good airline\n",
              "2         flight fortunately short\n",
              "3                  never fly adria\n",
              "4        ruined last days holidays\n",
              "                   ...            \n",
              "23166    customer service terrible\n",
              "23167                  avoid costs\n",
              "23168             recommend anyone\n",
              "23169           immaculately clean\n",
              "23170            lost money refund\n",
              "Name: Review_Title, Length: 23171, dtype: object"
            ]
          },
          "metadata": {},
          "execution_count": 104
        }
      ]
    },
    {
      "cell_type": "code",
      "source": [
        "new_df['Review']=new_df['Review'].apply(lambda x:remove_stopwords(x))"
      ],
      "metadata": {
        "id": "L6Z1CRNfVir7"
      },
      "execution_count": 105,
      "outputs": []
    },
    {
      "cell_type": "code",
      "source": [
        "new_df['Review']"
      ],
      "metadata": {
        "colab": {
          "base_uri": "https://localhost:8080/"
        },
        "id": "m54SRcHdVqB1",
        "outputId": "9f9272ef-91e3-4079-8782-89add0e60cc6"
      },
      "execution_count": 106,
      "outputs": [
        {
          "output_type": "execute_result",
          "data": {
            "text/plain": [
              "0        moroni moheli turned pretty decent airline onl...\n",
              "1        moroni anjouan small airline ticket advised tu...\n",
              "2        anjouan dzaoudzi small airline airline based c...\n",
              "3        please favor fly adria route munich pristina j...\n",
              "4        book flight airline friend returned sofia amst...\n",
              "                               ...                        \n",
              "23166    bangkok tokyo ’ flown many low cost airlines s...\n",
              "23167    avoid costs booked flights go singapore tokyo ...\n",
              "23168    flight leaving hour half flying get back airpo...\n",
              "23169    zipair jal ’ budget airline ’ classes travel p...\n",
              "23170    lied connection narita lost money refund agree...\n",
              "Name: Review, Length: 23171, dtype: object"
            ]
          },
          "metadata": {},
          "execution_count": 106
        }
      ]
    },
    {
      "cell_type": "code",
      "source": [
        "'\\’' in string.punctuation"
      ],
      "metadata": {
        "colab": {
          "base_uri": "https://localhost:8080/"
        },
        "id": "cqozsN1bVsj7",
        "outputId": "3af60724-4a05-4e0d-c0a2-68686b702dc3"
      },
      "execution_count": 107,
      "outputs": [
        {
          "output_type": "execute_result",
          "data": {
            "text/plain": [
              "False"
            ]
          },
          "metadata": {},
          "execution_count": 107
        }
      ]
    },
    {
      "cell_type": "code",
      "source": [
        "def remove_special_character(text):\n",
        "    # Define a regular expression pattern to match the character U+2019 (’)\n",
        "    special_char_pattern = r'\\u2019'\n",
        "    # Use the re.sub() function to replace all occurrences of the pattern with an empty string\n",
        "    cleaned_text = re.sub(special_char_pattern, '', text)\n",
        "    return cleaned_text"
      ],
      "metadata": {
        "id": "7NSsDo9nVvka"
      },
      "execution_count": 108,
      "outputs": []
    },
    {
      "cell_type": "code",
      "source": [
        "new_df['Review']=new_df['Review'].apply(lambda x:remove_special_character(x))"
      ],
      "metadata": {
        "id": "jkQPO6YTVxtK"
      },
      "execution_count": 109,
      "outputs": []
    },
    {
      "cell_type": "code",
      "source": [
        "new_df['Review']"
      ],
      "metadata": {
        "colab": {
          "base_uri": "https://localhost:8080/"
        },
        "id": "u14ovxi9Vzhx",
        "outputId": "030bdd7b-6f0f-44ed-9dd8-0b692c1ec070"
      },
      "execution_count": 110,
      "outputs": [
        {
          "output_type": "execute_result",
          "data": {
            "text/plain": [
              "0        moroni moheli turned pretty decent airline onl...\n",
              "1        moroni anjouan small airline ticket advised tu...\n",
              "2        anjouan dzaoudzi small airline airline based c...\n",
              "3        please favor fly adria route munich pristina j...\n",
              "4        book flight airline friend returned sofia amst...\n",
              "                               ...                        \n",
              "23166    bangkok tokyo  flown many low cost airlines st...\n",
              "23167    avoid costs booked flights go singapore tokyo ...\n",
              "23168    flight leaving hour half flying get back airpo...\n",
              "23169    zipair jal  budget airline  classes travel pic...\n",
              "23170    lied connection narita lost money refund agree...\n",
              "Name: Review, Length: 23171, dtype: object"
            ]
          },
          "metadata": {},
          "execution_count": 110
        }
      ]
    },
    {
      "cell_type": "code",
      "source": [
        "new_df['Review_Title']=new_df['Review_Title'].apply(lambda x:remove_special_character(x))"
      ],
      "metadata": {
        "id": "61RGVqguV1cq"
      },
      "execution_count": 111,
      "outputs": []
    },
    {
      "cell_type": "code",
      "source": [
        "new_df['Review_Title']"
      ],
      "metadata": {
        "colab": {
          "base_uri": "https://localhost:8080/"
        },
        "id": "pjxahCSbV4BV",
        "outputId": "feddef78-ac97-4e11-c0fa-03496232c067"
      },
      "execution_count": 112,
      "outputs": [
        {
          "output_type": "execute_result",
          "data": {
            "text/plain": [
              "0            pretty decent airline\n",
              "1                     good airline\n",
              "2         flight fortunately short\n",
              "3                  never fly adria\n",
              "4        ruined last days holidays\n",
              "                   ...            \n",
              "23166    customer service terrible\n",
              "23167                  avoid costs\n",
              "23168             recommend anyone\n",
              "23169           immaculately clean\n",
              "23170            lost money refund\n",
              "Name: Review_Title, Length: 23171, dtype: object"
            ]
          },
          "metadata": {},
          "execution_count": 112
        }
      ]
    },
    {
      "cell_type": "markdown",
      "source": [
        "Lemmatization"
      ],
      "metadata": {
        "id": "fydnTVFXV_6p"
      }
    },
    {
      "cell_type": "code",
      "source": [
        "import spacy\n",
        "nlp=spacy.load('en_core_web_sm')"
      ],
      "metadata": {
        "id": "yD2Qw4YzV6Qj"
      },
      "execution_count": 113,
      "outputs": []
    },
    {
      "cell_type": "code",
      "source": [
        "stopwords=nlp.Defaults.stop_words\n",
        "def lemmatizer(text):\n",
        "    doc=nlp(text)\n",
        "    sent=[token.lemma_ for token in doc if not token.text in set(stopwords)]\n",
        "    return ' '.join(sent)"
      ],
      "metadata": {
        "id": "vwm3-mM-WCUA"
      },
      "execution_count": 114,
      "outputs": []
    },
    {
      "cell_type": "code",
      "source": [
        "new_df['Review_Title']=new_df['Review_Title'].apply(lambda x:lemmatizer(x))"
      ],
      "metadata": {
        "id": "d-GTHL4UWF1F"
      },
      "execution_count": 115,
      "outputs": []
    },
    {
      "cell_type": "code",
      "source": [
        "new_df['Review_Title']"
      ],
      "metadata": {
        "colab": {
          "base_uri": "https://localhost:8080/"
        },
        "id": "6B6mRYtOWH_W",
        "outputId": "3aef5f8a-4fd1-4cc0-ab53-4873a139b5f2"
      },
      "execution_count": 116,
      "outputs": [
        {
          "output_type": "execute_result",
          "data": {
            "text/plain": [
              "0            pretty decent airline\n",
              "1                     good airline\n",
              "2         flight fortunately short\n",
              "3                        fly adria\n",
              "4                 ruin day holiday\n",
              "                   ...            \n",
              "23166    customer service terrible\n",
              "23167                   avoid cost\n",
              "23168                    recommend\n",
              "23169           immaculately clean\n",
              "23170            lose money refund\n",
              "Name: Review_Title, Length: 23171, dtype: object"
            ]
          },
          "metadata": {},
          "execution_count": 116
        }
      ]
    },
    {
      "cell_type": "code",
      "source": [
        "new_df['Review']=new_df['Review'].apply(lambda x:lemmatizer(x))"
      ],
      "metadata": {
        "id": "JRNQ6YcsWJ5T"
      },
      "execution_count": 117,
      "outputs": []
    },
    {
      "cell_type": "code",
      "source": [
        "new_df['Review']"
      ],
      "metadata": {
        "colab": {
          "base_uri": "https://localhost:8080/"
        },
        "id": "Q1iIYzqKWMAg",
        "outputId": "d3825951-0c59-491b-e741-38bab93a06dc"
      },
      "execution_count": 118,
      "outputs": [
        {
          "output_type": "execute_result",
          "data": {
            "text/plain": [
              "0        moroni moheli turn pretty decent airline onlin...\n",
              "1        moroni anjouan small airline ticket advise tur...\n",
              "2        anjouan dzaoudzi small airline airline base co...\n",
              "3        favor fly adria route munich pristina july los...\n",
              "4        book flight airline friend return sofia amster...\n",
              "                               ...                        \n",
              "23166    bangkok tokyo   fly low cost airline serve mea...\n",
              "23167    avoid cost book flight singapore tokyo unfores...\n",
              "23168    flight leave hour half fly airport medical eme...\n",
              "23169    zipair jal   budget airline   class travel pic...\n",
              "23170    lie connection narita lose money refund agreem...\n",
              "Name: Review, Length: 23171, dtype: object"
            ]
          },
          "metadata": {},
          "execution_count": 118
        }
      ]
    },
    {
      "cell_type": "markdown",
      "source": [
        "Vectorization"
      ],
      "metadata": {
        "id": "rIMOPO8UXGkf"
      }
    },
    {
      "cell_type": "code",
      "source": [
        "from sklearn.feature_extraction.text import TfidfVectorizer\n",
        "tf=TfidfVectorizer()\n",
        "vec_review=tf.fit_transform(new_df[\"Review\"])"
      ],
      "metadata": {
        "id": "mvTWIgxPWN7Q"
      },
      "execution_count": 119,
      "outputs": []
    },
    {
      "cell_type": "code",
      "source": [
        "vec_review_t=tf.fit_transform(new_df[\"Review_Title\"])"
      ],
      "metadata": {
        "id": "FxBDQBiOXMCO"
      },
      "execution_count": 120,
      "outputs": []
    },
    {
      "cell_type": "code",
      "source": [
        "# Split the DataFrame into features and target\n",
        "X = new_df.drop(columns=['Recommended'])\n",
        "y = new_df['Recommended']"
      ],
      "metadata": {
        "id": "iH8yKrGyXN6f"
      },
      "execution_count": 121,
      "outputs": []
    },
    {
      "cell_type": "markdown",
      "source": [
        "Feature Matrix Formation"
      ],
      "metadata": {
        "id": "cCGfByIhXWZP"
      }
    },
    {
      "cell_type": "code",
      "source": [
        "from scipy.sparse import csr_matrix, hstack\n",
        "# Concatenate the TF-IDF sparse matrix with the numeric columns\n",
        "# Convert the numeric data to a sparse matrix\n",
        "sparse_numeric_data = csr_matrix(X.drop(columns=[\"Review\",\"Review_Title\"]).values)\n",
        "# Concatenate the sparse matrices horizontally (along the columns)\n",
        "final_feature_matrix = hstack([sparse_numeric_data,vec_review, vec_review_t])"
      ],
      "metadata": {
        "id": "GFeV0I25XQPe"
      },
      "execution_count": 122,
      "outputs": []
    },
    {
      "cell_type": "code",
      "source": [
        "final_feature_matrix"
      ],
      "metadata": {
        "colab": {
          "base_uri": "https://localhost:8080/"
        },
        "id": "EbdxjK_pXZwx",
        "outputId": "68f62266-577f-4534-aa7f-8ddaaaa09d52"
      },
      "execution_count": 123,
      "outputs": [
        {
          "output_type": "execute_result",
          "data": {
            "text/plain": [
              "<23171x38051 sparse matrix of type '<class 'numpy.float64'>'\n",
              "\twith 1297747 stored elements in Compressed Sparse Row format>"
            ]
          },
          "metadata": {},
          "execution_count": 123
        }
      ]
    },
    {
      "cell_type": "markdown",
      "source": [
        "Splitting Data into Train and Test data"
      ],
      "metadata": {
        "id": "GKuCg2VsXkm_"
      }
    },
    {
      "cell_type": "code",
      "source": [
        "from sklearn.model_selection import train_test_split\n",
        "# Split the combined feature matrix and the target (if applicable) into train and test sets\n",
        "X_train, X_test, y_train, y_test = train_test_split(final_feature_matrix, y, test_size=0.2,stratify=y, random_state=42)"
      ],
      "metadata": {
        "id": "_IpFdvMgXbu5"
      },
      "execution_count": 124,
      "outputs": []
    },
    {
      "cell_type": "code",
      "source": [
        "X_train.shape"
      ],
      "metadata": {
        "colab": {
          "base_uri": "https://localhost:8080/"
        },
        "id": "z04czZo6XsON",
        "outputId": "16d44f9d-b4da-4bf8-c20d-838f91c9503f"
      },
      "execution_count": 125,
      "outputs": [
        {
          "output_type": "execute_result",
          "data": {
            "text/plain": [
              "(18536, 38051)"
            ]
          },
          "metadata": {},
          "execution_count": 125
        }
      ]
    },
    {
      "cell_type": "code",
      "source": [
        "y_train.shape"
      ],
      "metadata": {
        "colab": {
          "base_uri": "https://localhost:8080/"
        },
        "id": "ogPYmmLGXuCx",
        "outputId": "093b1603-40a8-4b80-fb6e-8c486ea387e1"
      },
      "execution_count": 126,
      "outputs": [
        {
          "output_type": "execute_result",
          "data": {
            "text/plain": [
              "(18536,)"
            ]
          },
          "metadata": {},
          "execution_count": 126
        }
      ]
    },
    {
      "cell_type": "markdown",
      "source": [
        "Using Logistic Regression"
      ],
      "metadata": {
        "id": "qsfXpvtZXxu_"
      }
    },
    {
      "cell_type": "code",
      "source": [
        "from sklearn.linear_model import LogisticRegression\n",
        "logreg=LogisticRegression(n_jobs=-1)"
      ],
      "metadata": {
        "id": "ZYH-gm4QXwSI"
      },
      "execution_count": 127,
      "outputs": []
    },
    {
      "cell_type": "code",
      "source": [
        "logreg.fit(X_train,y_train)"
      ],
      "metadata": {
        "colab": {
          "base_uri": "https://localhost:8080/",
          "height": 74
        },
        "id": "UD_UacUfX2Zw",
        "outputId": "df62c1c1-1426-4e1f-fd3b-fbe5aaf6764d"
      },
      "execution_count": 128,
      "outputs": [
        {
          "output_type": "execute_result",
          "data": {
            "text/plain": [
              "LogisticRegression(n_jobs=-1)"
            ],
            "text/html": [
              "<style>#sk-container-id-1 {color: black;background-color: white;}#sk-container-id-1 pre{padding: 0;}#sk-container-id-1 div.sk-toggleable {background-color: white;}#sk-container-id-1 label.sk-toggleable__label {cursor: pointer;display: block;width: 100%;margin-bottom: 0;padding: 0.3em;box-sizing: border-box;text-align: center;}#sk-container-id-1 label.sk-toggleable__label-arrow:before {content: \"▸\";float: left;margin-right: 0.25em;color: #696969;}#sk-container-id-1 label.sk-toggleable__label-arrow:hover:before {color: black;}#sk-container-id-1 div.sk-estimator:hover label.sk-toggleable__label-arrow:before {color: black;}#sk-container-id-1 div.sk-toggleable__content {max-height: 0;max-width: 0;overflow: hidden;text-align: left;background-color: #f0f8ff;}#sk-container-id-1 div.sk-toggleable__content pre {margin: 0.2em;color: black;border-radius: 0.25em;background-color: #f0f8ff;}#sk-container-id-1 input.sk-toggleable__control:checked~div.sk-toggleable__content {max-height: 200px;max-width: 100%;overflow: auto;}#sk-container-id-1 input.sk-toggleable__control:checked~label.sk-toggleable__label-arrow:before {content: \"▾\";}#sk-container-id-1 div.sk-estimator input.sk-toggleable__control:checked~label.sk-toggleable__label {background-color: #d4ebff;}#sk-container-id-1 div.sk-label input.sk-toggleable__control:checked~label.sk-toggleable__label {background-color: #d4ebff;}#sk-container-id-1 input.sk-hidden--visually {border: 0;clip: rect(1px 1px 1px 1px);clip: rect(1px, 1px, 1px, 1px);height: 1px;margin: -1px;overflow: hidden;padding: 0;position: absolute;width: 1px;}#sk-container-id-1 div.sk-estimator {font-family: monospace;background-color: #f0f8ff;border: 1px dotted black;border-radius: 0.25em;box-sizing: border-box;margin-bottom: 0.5em;}#sk-container-id-1 div.sk-estimator:hover {background-color: #d4ebff;}#sk-container-id-1 div.sk-parallel-item::after {content: \"\";width: 100%;border-bottom: 1px solid gray;flex-grow: 1;}#sk-container-id-1 div.sk-label:hover label.sk-toggleable__label {background-color: #d4ebff;}#sk-container-id-1 div.sk-serial::before {content: \"\";position: absolute;border-left: 1px solid gray;box-sizing: border-box;top: 0;bottom: 0;left: 50%;z-index: 0;}#sk-container-id-1 div.sk-serial {display: flex;flex-direction: column;align-items: center;background-color: white;padding-right: 0.2em;padding-left: 0.2em;position: relative;}#sk-container-id-1 div.sk-item {position: relative;z-index: 1;}#sk-container-id-1 div.sk-parallel {display: flex;align-items: stretch;justify-content: center;background-color: white;position: relative;}#sk-container-id-1 div.sk-item::before, #sk-container-id-1 div.sk-parallel-item::before {content: \"\";position: absolute;border-left: 1px solid gray;box-sizing: border-box;top: 0;bottom: 0;left: 50%;z-index: -1;}#sk-container-id-1 div.sk-parallel-item {display: flex;flex-direction: column;z-index: 1;position: relative;background-color: white;}#sk-container-id-1 div.sk-parallel-item:first-child::after {align-self: flex-end;width: 50%;}#sk-container-id-1 div.sk-parallel-item:last-child::after {align-self: flex-start;width: 50%;}#sk-container-id-1 div.sk-parallel-item:only-child::after {width: 0;}#sk-container-id-1 div.sk-dashed-wrapped {border: 1px dashed gray;margin: 0 0.4em 0.5em 0.4em;box-sizing: border-box;padding-bottom: 0.4em;background-color: white;}#sk-container-id-1 div.sk-label label {font-family: monospace;font-weight: bold;display: inline-block;line-height: 1.2em;}#sk-container-id-1 div.sk-label-container {text-align: center;}#sk-container-id-1 div.sk-container {/* jupyter's `normalize.less` sets `[hidden] { display: none; }` but bootstrap.min.css set `[hidden] { display: none !important; }` so we also need the `!important` here to be able to override the default hidden behavior on the sphinx rendered scikit-learn.org. See: https://github.com/scikit-learn/scikit-learn/issues/21755 */display: inline-block !important;position: relative;}#sk-container-id-1 div.sk-text-repr-fallback {display: none;}</style><div id=\"sk-container-id-1\" class=\"sk-top-container\"><div class=\"sk-text-repr-fallback\"><pre>LogisticRegression(n_jobs=-1)</pre><b>In a Jupyter environment, please rerun this cell to show the HTML representation or trust the notebook. <br />On GitHub, the HTML representation is unable to render, please try loading this page with nbviewer.org.</b></div><div class=\"sk-container\" hidden><div class=\"sk-item\"><div class=\"sk-estimator sk-toggleable\"><input class=\"sk-toggleable__control sk-hidden--visually\" id=\"sk-estimator-id-1\" type=\"checkbox\" checked><label for=\"sk-estimator-id-1\" class=\"sk-toggleable__label sk-toggleable__label-arrow\">LogisticRegression</label><div class=\"sk-toggleable__content\"><pre>LogisticRegression(n_jobs=-1)</pre></div></div></div></div></div>"
            ]
          },
          "metadata": {},
          "execution_count": 128
        }
      ]
    },
    {
      "cell_type": "code",
      "source": [
        "log_pred=logreg.predict(X_test)"
      ],
      "metadata": {
        "id": "NyLuC3AwX4ih"
      },
      "execution_count": 129,
      "outputs": []
    },
    {
      "cell_type": "code",
      "source": [
        "from sklearn.metrics import accuracy_score\n",
        "accuracy_lr = accuracy_score(y_test, log_pred)\n",
        "print('Accuracy:', accuracy_lr)\n",
        "\n",
        "from sklearn.metrics import confusion_matrix\n",
        "cm = confusion_matrix(y_test, log_pred)\n",
        "print(\"Confusion Matrix:\")\n",
        "print(cm)\n",
        "\n",
        "from sklearn.metrics import precision_score, recall_score, f1_score\n",
        "\n",
        "precision_lr = precision_score(y_test, log_pred)\n",
        "recall_lr = recall_score(y_test, log_pred)\n",
        "f1_lr = f1_score(y_test, log_pred)\n",
        "\n",
        "print(\"Precision:\", precision_lr)\n",
        "print(\"Recall:\", recall_lr)\n",
        "print(\"F1-Score:\", f1_lr)"
      ],
      "metadata": {
        "colab": {
          "base_uri": "https://localhost:8080/"
        },
        "id": "WpOoTrmkX8Hh",
        "outputId": "3171c201-a92b-4d13-8eb7-3e9e7ef030b6"
      },
      "execution_count": 130,
      "outputs": [
        {
          "output_type": "stream",
          "name": "stdout",
          "text": [
            "Accuracy: 0.9546925566343042\n",
            "Confusion Matrix:\n",
            "[[2970  103]\n",
            " [ 107 1455]]\n",
            "Precision: 0.9338896020539152\n",
            "Recall: 0.9314980793854033\n",
            "F1-Score: 0.9326923076923077\n"
          ]
        }
      ]
    },
    {
      "cell_type": "code",
      "source": [
        "from sklearn.metrics import classification_report\n",
        "report = classification_report(y_test, log_pred,target_names=['Negative','Positive'])\n",
        "print(report)"
      ],
      "metadata": {
        "colab": {
          "base_uri": "https://localhost:8080/"
        },
        "id": "ZHBOy5r6YAiP",
        "outputId": "820d9217-df91-4f7d-d219-c8e2a1f0e49a"
      },
      "execution_count": 131,
      "outputs": [
        {
          "output_type": "stream",
          "name": "stdout",
          "text": [
            "              precision    recall  f1-score   support\n",
            "\n",
            "    Negative       0.97      0.97      0.97      3073\n",
            "    Positive       0.93      0.93      0.93      1562\n",
            "\n",
            "    accuracy                           0.95      4635\n",
            "   macro avg       0.95      0.95      0.95      4635\n",
            "weighted avg       0.95      0.95      0.95      4635\n",
            "\n"
          ]
        }
      ]
    },
    {
      "cell_type": "code",
      "source": [],
      "metadata": {
        "id": "tPY79kmlYHK8"
      },
      "execution_count": null,
      "outputs": []
    }
  ]
}